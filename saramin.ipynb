{
 "cells": [
  {
   "cell_type": "code",
   "execution_count": 1,
   "metadata": {},
   "outputs": [
    {
     "data": {
      "text/plain": [
       "'c:\\\\Users\\\\sonso\\\\Desktop\\\\Git\\\\Study\\\\Contest'"
      ]
     },
     "execution_count": 1,
     "metadata": {},
     "output_type": "execute_result"
    }
   ],
   "source": [
    "import os \n",
    "os.getcwd()"
   ]
  },
  {
   "cell_type": "code",
   "execution_count": 48,
   "metadata": {},
   "outputs": [],
   "source": [
    "import pandas as pd"
   ]
  },
  {
   "cell_type": "code",
   "execution_count": 2,
   "metadata": {},
   "outputs": [],
   "source": [
    "from selenium import webdriver\n",
    "import time\n",
    "\n",
    "\n",
    "driver = webdriver.Chrome('C:/Users/sonso/Desktop/Git/Python/chromedriver.exe')"
   ]
  },
  {
   "cell_type": "code",
   "execution_count": 3,
   "metadata": {},
   "outputs": [],
   "source": [
    "driver.get('https://www.saramin.co.kr/zf_user/jobs/list/job-category?cat_mcls=2&panel_type=&search_optional_item=n&search_done=y&panel_count=y')"
   ]
  },
  {
   "cell_type": "code",
   "execution_count": 10,
   "metadata": {},
   "outputs": [],
   "source": [
    "li = driver.find_element_by_xpath('//*[@id=\"default_list_wrap\"]/section/div[2]')\n",
    "li_nm = li.find_elements_by_css_selector('div.col.company_nm>a')\n",
    "li_title = li.find_elements_by_css_selector('div.job_tit>a')\n",
    "li_condition = li.find_elements_by_css_selector('div.col.recruit_condition')\n",
    "li_company_info = li.find_elements_by_css_selector('div.col.company_info')"
   ]
  },
  {
   "cell_type": "code",
   "execution_count": 24,
   "metadata": {},
   "outputs": [],
   "source": [
    "# li_nm = li.find_elements_by_css_selector('div.col.company_nm>a')"
   ]
  },
  {
   "cell_type": "code",
   "execution_count": 35,
   "metadata": {},
   "outputs": [],
   "source": [
    "# li_title = li.find_elements_by_css_selector('div.job_tit>a')"
   ]
  },
  {
   "cell_type": "code",
   "execution_count": 41,
   "metadata": {},
   "outputs": [],
   "source": [
    "# li_condition = li.find_elements_by_css_selector('div.col.recruit_condition')\n",
    "# li_condition[0].find_elements_by_css_selector('p')[1].text"
   ]
  },
  {
   "cell_type": "code",
   "execution_count": 46,
   "metadata": {},
   "outputs": [
    {
     "data": {
      "text/plain": [
       "'서울 금천구'"
      ]
     },
     "execution_count": 46,
     "metadata": {},
     "output_type": "execute_result"
    }
   ],
   "source": [
    "# li_company_info = li.find_elements_by_css_selector('div.col.company_info')\n",
    "# li_company_info[0].find_elements_by_css_selector('p')[1].text"
   ]
  },
  {
   "cell_type": "code",
   "execution_count": 93,
   "metadata": {},
   "outputs": [
    {
     "name": "stderr",
     "output_type": "stream",
     "text": [
      "C:\\Users\\sonso\\Anaconda3\\lib\\site-packages\\ipykernel_launcher.py:14: DeprecationWarning: use driver.switch_to.window instead\n",
      "  \n",
      "C:\\Users\\sonso\\Anaconda3\\lib\\site-packages\\ipykernel_launcher.py:17: DeprecationWarning: use driver.switch_to.frame instead\n",
      "C:\\Users\\sonso\\Anaconda3\\lib\\site-packages\\ipykernel_launcher.py:25: DeprecationWarning: use driver.switch_to.window instead\n"
     ]
    }
   ],
   "source": [
    "for i in range(50) : \n",
    "    df_nm.append(li_nm[i].text)\n",
    "    df_title.append(li_title[i].text)\n",
    "    df_career.append(li_condition[i].find_elements_by_css_selector('p')[0].text)\n",
    "    df_education.append(li_condition[i].find_elements_by_css_selector('p')[1].text)\n",
    "    df_employment.append(li_company_info[i].find_elements_by_css_selector('p')[0].text)\n",
    "    df_workspace.append(li_company_info[i].find_elements_by_css_selector('p')[1].text)\n",
    "    \n",
    "    # 상세페이지 들어가기 \n",
    "    li_title[i].click()\n",
    "    time.sleep(2)\n",
    "    \n",
    "    # 활성 탭 변경 \n",
    "    driver.switch_to_window(driver.window_handles[1])\n",
    "    \n",
    "    # 상세 내용 iframe으로 이동 \n",
    "    driver.switch_to_frame('iframe_content_0')\n",
    "    \n",
    "    # 상세 내용 \n",
    "    df_content.append(driver.find_element_by_css_selector('body').text)\n",
    "    \n",
    "    # iframe 밖으로 이동 \n",
    "    driver.switch_to.default_content()\n",
    "    driver.close()\n",
    "    driver.switch_to_window(driver.window_handles[0])\n",
    "    \n",
    "\n",
    "df = pd.DataFrame({'nm' : df_nm, \n",
    "                   'title' : df_title,\n",
    "                   'career' : df_career,\n",
    "                   'education' : df_education,\n",
    "                   'employment' : df_employment,\n",
    "                   'workspace' : df_workspace,\n",
    "                   'content' : df_content})"
   ]
  },
  {
   "cell_type": "code",
   "execution_count": 51,
   "metadata": {},
   "outputs": [],
   "source": [
    "# li_title[1].click()"
   ]
  },
  {
   "cell_type": "code",
   "execution_count": 57,
   "metadata": {},
   "outputs": [
    {
     "name": "stderr",
     "output_type": "stream",
     "text": [
      "C:\\Users\\sonso\\Anaconda3\\lib\\site-packages\\ipykernel_launcher.py:1: DeprecationWarning: use driver.switch_to.window instead\n",
      "  \"\"\"Entry point for launching an IPython kernel.\n"
     ]
    }
   ],
   "source": [
    "# driver.switch_to_window(driver.window_handles[1])"
   ]
  },
  {
   "cell_type": "code",
   "execution_count": 81,
   "metadata": {},
   "outputs": [
    {
     "name": "stderr",
     "output_type": "stream",
     "text": [
      "C:\\Users\\sonso\\Anaconda3\\lib\\site-packages\\ipykernel_launcher.py:1: DeprecationWarning: use driver.switch_to.frame instead\n",
      "  \"\"\"Entry point for launching an IPython kernel.\n"
     ]
    }
   ],
   "source": [
    "# driver.switch_to_frame('iframe_content_0')"
   ]
  },
  {
   "cell_type": "code",
   "execution_count": 82,
   "metadata": {},
   "outputs": [
    {
     "data": {
      "text/plain": [
       "'[두리화장품] 웹디자이너 경력직 모집\\n모집부문 및 상세내용  \\n해당 채용은 온라인 사업확장에 따른 채용으로 많은 지원 바랍니다.\\nㆍ학력 : 대졸 이상 (2,3년)\\n웹디자이너 영업2팀(온라인) 1명\\n담당업무\\nㆍ이벤트 및 프로모션 디자인\\nㆍ제품 상세페이지 / 광고컨텐츠 디자인\\nㆍ소셜/오픈마켓/쇼핑몰용 웹 컨텐츠 제작\\nㆍ제품 사진 보정/합성\\nㆍ웹사이트/쇼핑몰 디자인\\n\\n지원자격\\nㆍ경력 : 신입/경력 3년 이상(면접 후 결정)\\n근무조건\\nㆍ 근무형태 : 정규직(수습기간)-1개월\\nㆍ 근무일시 : 주 5일(월~금) 오전 9시~오후 6시\\nㆍ 근무지역 : (06626) 서울 서초구 사임당로 175 갤럭시타워, 13층(서초동) - 신분당선 강남 에서 500m 이내\\n전형절차\\n서류전형\\n1차면접\\n최종합격\\n접수기간 및 방법\\nㆍ 접수기간 : 2021년 10월 25일 (월) 14시 ~ 2021년 12월 24일 (금) 24시\\nㆍ 접수방법 : 사람인 입사지원\\nㆍ 이력서양식 : 사람인 온라인 이력서\\nㆍ 제출서류 : 포트폴리오 제출 필수\\n유의사항\\nㆍ입사지원 서류에 허위사실이 발견될 경우, 채용확정 이후라도 채용이 취소될 수 있습니다.'"
      ]
     },
     "execution_count": 82,
     "metadata": {},
     "output_type": "execute_result"
    }
   ],
   "source": [
    "# driver.find_element_by_css_selector('body').text"
   ]
  },
  {
   "cell_type": "code",
   "execution_count": 83,
   "metadata": {},
   "outputs": [],
   "source": [
    "# driver.switch_to.default_content()"
   ]
  },
  {
   "cell_type": "code",
   "execution_count": 90,
   "metadata": {},
   "outputs": [],
   "source": [
    "# driver.close()"
   ]
  },
  {
   "cell_type": "code",
   "execution_count": 91,
   "metadata": {},
   "outputs": [
    {
     "name": "stderr",
     "output_type": "stream",
     "text": [
      "C:\\Users\\sonso\\Anaconda3\\lib\\site-packages\\ipykernel_launcher.py:1: DeprecationWarning: use driver.switch_to.window instead\n",
      "  \"\"\"Entry point for launching an IPython kernel.\n"
     ]
    }
   ],
   "source": [
    "# driver.switch_to_window(driver.window_handles[0])"
   ]
  },
  {
   "cell_type": "code",
   "execution_count": 94,
   "metadata": {},
   "outputs": [
    {
     "data": {
      "text/html": [
       "<div>\n",
       "<style scoped>\n",
       "    .dataframe tbody tr th:only-of-type {\n",
       "        vertical-align: middle;\n",
       "    }\n",
       "\n",
       "    .dataframe tbody tr th {\n",
       "        vertical-align: top;\n",
       "    }\n",
       "\n",
       "    .dataframe thead th {\n",
       "        text-align: right;\n",
       "    }\n",
       "</style>\n",
       "<table border=\"1\" class=\"dataframe\">\n",
       "  <thead>\n",
       "    <tr style=\"text-align: right;\">\n",
       "      <th></th>\n",
       "      <th>nm</th>\n",
       "      <th>title</th>\n",
       "      <th>career</th>\n",
       "      <th>education</th>\n",
       "      <th>employment</th>\n",
       "      <th>workspace</th>\n",
       "      <th>content</th>\n",
       "    </tr>\n",
       "  </thead>\n",
       "  <tbody>\n",
       "    <tr>\n",
       "      <th>0</th>\n",
       "      <td>(주)씨앤비플러스</td>\n",
       "      <td>JAVA 신입 개발자 모집[정규직공채]</td>\n",
       "      <td>신입</td>\n",
       "      <td>대학(2,3년)↑</td>\n",
       "      <td>정규직</td>\n",
       "      <td>서울 금천구</td>\n",
       "      <td>JAVA 신입 개발자 모집[정규직]\\n모집부문 및 상세내용\\n공통 자격요건\\nㆍ학력...</td>\n",
       "    </tr>\n",
       "    <tr>\n",
       "      <th>1</th>\n",
       "      <td>두리화장품(주)</td>\n",
       "      <td>[두리화장품] 웹디자이너 경력직 모집</td>\n",
       "      <td>신입 · 경력</td>\n",
       "      <td>대학(2,3년)↑</td>\n",
       "      <td>정규직</td>\n",
       "      <td>서울 서초구</td>\n",
       "      <td>[두리화장품] 웹디자이너 경력직 모집\\n모집부문 및 상세내용  \\n해당 채용은 온라...</td>\n",
       "    </tr>\n",
       "    <tr>\n",
       "      <th>2</th>\n",
       "      <td>(주) 하트게임즈</td>\n",
       "      <td>자바스크립트] 하트게임즈 페이스북 게임 개발자 채용</td>\n",
       "      <td>경력무관</td>\n",
       "      <td>대학(2,3년)↑</td>\n",
       "      <td>정규직</td>\n",
       "      <td>서울 강남구</td>\n",
       "      <td>정규직) JavaScript 모바일/웹게임 클라이언트 개발자 채용\\n\\n\\n주식회사...</td>\n",
       "    </tr>\n",
       "    <tr>\n",
       "      <th>3</th>\n",
       "      <td>(주)카이런소프트</td>\n",
       "      <td>CTO PM PL 팀장급 경력직 모집</td>\n",
       "      <td>경력 5년↑</td>\n",
       "      <td>대학교(4년)↑</td>\n",
       "      <td>정규직</td>\n",
       "      <td>대전 유성구</td>\n",
       "      <td>모집부문 및 상세내용\\n공통 자격요건\\nㆍ학력 : 대졸 이상 (4년)\\nㆍ나이/성별...</td>\n",
       "    </tr>\n",
       "    <tr>\n",
       "      <th>4</th>\n",
       "      <td>(주)골든스카이인터내셔널</td>\n",
       "      <td>쇼핑몰 웹디자인 상세페이지 사원 모집</td>\n",
       "      <td>2 ~ 10년</td>\n",
       "      <td>고졸↑</td>\n",
       "      <td>정규직</td>\n",
       "      <td>서울 금천구</td>\n",
       "      <td>쇼핑몰 웹디자인 상세페이지 사원 모집\\n모집부문 및 상세내용\\n공통 자격요건\\nㆍ학...</td>\n",
       "    </tr>\n",
       "  </tbody>\n",
       "</table>\n",
       "</div>"
      ],
      "text/plain": [
       "              nm                         title   career  education employment  \\\n",
       "0      (주)씨앤비플러스         JAVA 신입 개발자 모집[정규직공채]       신입  대학(2,3년)↑        정규직   \n",
       "1       두리화장품(주)          [두리화장품] 웹디자이너 경력직 모집  신입 · 경력  대학(2,3년)↑        정규직   \n",
       "2      (주) 하트게임즈  자바스크립트] 하트게임즈 페이스북 게임 개발자 채용     경력무관  대학(2,3년)↑        정규직   \n",
       "3      (주)카이런소프트          CTO PM PL 팀장급 경력직 모집   경력 5년↑   대학교(4년)↑        정규직   \n",
       "4  (주)골든스카이인터내셔널          쇼핑몰 웹디자인 상세페이지 사원 모집  2 ~ 10년        고졸↑        정규직   \n",
       "\n",
       "  workspace                                            content  \n",
       "0    서울 금천구  JAVA 신입 개발자 모집[정규직]\\n모집부문 및 상세내용\\n공통 자격요건\\nㆍ학력...  \n",
       "1    서울 서초구  [두리화장품] 웹디자이너 경력직 모집\\n모집부문 및 상세내용  \\n해당 채용은 온라...  \n",
       "2    서울 강남구  정규직) JavaScript 모바일/웹게임 클라이언트 개발자 채용\\n\\n\\n주식회사...  \n",
       "3    대전 유성구  모집부문 및 상세내용\\n공통 자격요건\\nㆍ학력 : 대졸 이상 (4년)\\nㆍ나이/성별...  \n",
       "4    서울 금천구  쇼핑몰 웹디자인 상세페이지 사원 모집\\n모집부문 및 상세내용\\n공통 자격요건\\nㆍ학...  "
      ]
     },
     "execution_count": 94,
     "metadata": {},
     "output_type": "execute_result"
    }
   ],
   "source": [
    "df.head()"
   ]
  },
  {
   "cell_type": "code",
   "execution_count": 97,
   "metadata": {},
   "outputs": [
    {
     "data": {
      "text/plain": [
       "['JAVA 신입 개발자 모집[정규직]',\n",
       " '모집부문 및 상세내용',\n",
       " '공통 자격요건',\n",
       " 'ㆍ학력 : 초대졸 이상 (2,3년)',\n",
       " 'ㆍjava 학원 수료자',\n",
       " '웹프로그램 개발 SI사업부 0명',\n",
       " '담당업무',\n",
       " 'ㆍ프로그램 개발',\n",
       " '',\n",
       " '근무조건',\n",
       " 'ㆍ 근무형태 : 정규직',\n",
       " 'ㆍ 근무일시 : 주 5일(월~금) 오전 9시~오후 6시',\n",
       " 'ㆍ 근무지역 : (08501) 서울 금천구 가산디지털1로 225, 1609호 (가산동, 에이스가산포휴)(가산동) - 서울 1호선 가산디지털단지 에서 800m 이내',\n",
       " '전형절차',\n",
       " '서류전형',\n",
       " '1차면접',\n",
       " '최종합격',\n",
       " '접수기간 및 방법',\n",
       " 'ㆍ 접수기간 : 채용시까지',\n",
       " 'ㆍ 접수방법 : 사람인 입사지원',\n",
       " 'ㆍ 이력서양식 : 사람인 온라인 이력서',\n",
       " '유의사항',\n",
       " 'ㆍ입사지원 서류에 허위사실이 발견될 경우, 채용확정 이후라도 채용이 취소될 수 있습니다.']"
      ]
     },
     "execution_count": 97,
     "metadata": {},
     "output_type": "execute_result"
    }
   ],
   "source": [
    "df.content[0].split('\\n')"
   ]
  },
  {
   "cell_type": "code",
   "execution_count": 114,
   "metadata": {},
   "outputs": [],
   "source": [
    "df_nm, df_title, df_career, df_education, df_employment, df_workspace, df_content = [],[],[],[],[],[],[]"
   ]
  },
  {
   "cell_type": "code",
   "execution_count": 115,
   "metadata": {},
   "outputs": [
    {
     "name": "stderr",
     "output_type": "stream",
     "text": [
      "C:\\Users\\sonso\\Anaconda3\\lib\\site-packages\\ipykernel_launcher.py:49: DeprecationWarning: use driver.switch_to.window instead\n",
      "C:\\Users\\sonso\\Anaconda3\\lib\\site-packages\\ipykernel_launcher.py:54: DeprecationWarning: use driver.switch_to.frame instead\n",
      "C:\\Users\\sonso\\Anaconda3\\lib\\site-packages\\ipykernel_launcher.py:68: DeprecationWarning: use driver.switch_to.window instead\n"
     ]
    }
   ],
   "source": [
    "for page in range(1,201) : \n",
    "    driver = webdriver.Chrome('C:/Users/sonso/Desktop/Git/Python/chromedriver.exe')\n",
    "    base_url = f'https://www.saramin.co.kr/zf_user/jobs/list/job-category?page={page}&cat_mcls=2&search_optional_item=n&search_done=y&panel_count=y&isAjaxRequest=0&page_count=50&sort=RL&type=job-category&is_param=1&isSearchResultEmpty=1&isSectionHome=0&searchParamCount=1#searchTitle'\n",
    "    driver.get(base_url)\n",
    "    time.sleep(1.5)\n",
    "    \n",
    "    li = driver.find_element_by_xpath('//*[@id=\"default_list_wrap\"]/section/div[2]')\n",
    "    li_nm = li.find_elements_by_css_selector('div.col.company_nm>a')\n",
    "    li_title = li.find_elements_by_css_selector('div.job_tit>a')\n",
    "    li_condition = li.find_elements_by_css_selector('div.col.recruit_condition')\n",
    "    li_company_info = li.find_elements_by_css_selector('div.col.company_info')\n",
    "    \n",
    "    for i in range(50) : \n",
    "        try : \n",
    "            df_nm.append(li_nm[i].text)\n",
    "        except: \n",
    "            df_nm.append('')\n",
    "        \n",
    "        try :\n",
    "            df_title.append(li_title[i].text)\n",
    "        except : \n",
    "            df_title.append('')\n",
    "            \n",
    "        try : \n",
    "            df_career.append(li_condition[i].find_elements_by_css_selector('p')[0].text)\n",
    "        except : \n",
    "            df_career.append('')\n",
    "        \n",
    "        try : \n",
    "            df_education.append(li_condition[i].find_elements_by_css_selector('p')[1].text)\n",
    "        except : \n",
    "            df_education.append('')\n",
    "            \n",
    "        try : \n",
    "            df_employment.append(li_company_info[i].find_elements_by_css_selector('p')[0].text)\n",
    "        except : \n",
    "            df_employment.append('')\n",
    "        \n",
    "        try : \n",
    "            df_workspace.append(li_company_info[i].find_elements_by_css_selector('p')[1].text)\n",
    "        except : \n",
    "            df_workspace.append('')\n",
    "        \n",
    "        # 상세페이지 들어가기 \n",
    "        li_title[i].click()\n",
    "        time.sleep(1.5)\n",
    "        \n",
    "        # 활성 탭 변경 \n",
    "        driver.switch_to_window(driver.window_handles[1])\n",
    "        \n",
    "        \n",
    "        try : \n",
    "        # 상세 내용 iframe으로 이동 \n",
    "            driver.switch_to_frame('iframe_content_0')\n",
    "            \n",
    "            # 상세 내용 \n",
    "            df_content.append(driver.find_element_by_css_selector('body').text)\n",
    "            time.sleep(1)\n",
    "            \n",
    "            # iframe 밖으로 이동 \n",
    "            driver.switch_to.default_content()\n",
    "            \n",
    "        except : \n",
    "            df_content.append('')\n",
    "        \n",
    "        \n",
    "        driver.close()\n",
    "        driver.switch_to_window(driver.window_handles[0])\n",
    "    driver.close()\n",
    "    \n",
    "\n",
    "\n",
    "df = pd.DataFrame({'nm' : df_nm, \n",
    "                   'title' : df_title,\n",
    "                   'career' : df_career,\n",
    "                   'education' : df_education,\n",
    "                   'employment' : df_employment,\n",
    "                   'workspace' : df_workspace,\n",
    "                   'content' : df_content})\n",
    "    \n",
    "    \n",
    "    "
   ]
  },
  {
   "cell_type": "code",
   "execution_count": 111,
   "metadata": {},
   "outputs": [
    {
     "data": {
      "text/plain": [
       "'네트워크, 보안 솔루션 엔지니어 모집 (신입/경력)\\n모집부문 및 상세내용\\n공통 자격요건\\nㆍ학력 : 대졸 이상 (2,3년)\\nㆍ나이/성별 : 무관\\n네트워크 보안 솔루션 신입/경력 엔지니어 모집 IT솔루션팀 1명\\n담당업무\\nㆍ네트워크 보안 솔루션 관리,네트워크 트래픽 분석 업무\\n지원자격\\nㆍ경력 : 신입/경력 2년 ~ 5년(사원, 주임, 대리급)\\n우대사항\\nㆍ전기/전자공학, 컴퓨터/시스템공학\\nㆍ정보처리기사, CCNA (Cisco Certification Network Associate), CCNP (Cisco Certification Network Professional)\\nㆍ고용촉진장려금 대상, 영어가능자, 컴퓨터활용능력 우수, 인근거주자, 운전가능자, 해당직무 근무경험, 문서작성 우수자\\n근무조건\\nㆍ 근무형태 : 정규직(수습기간)-3개월\\nㆍ 근무일시 : 주 5일(월~금) 오전 9시 ~ 오후 6시 30분\\nㆍ 근무지역 : (431-050) 경기 안양시 동안구 비산동 1112-1 안양건설타워 1106호 - 서울 4호선 범계 에서 300m 이내\\n전형절차\\n서류전형\\n1차면접\\n최종합격\\n접수기간 및 방법\\nㆍ 접수기간 : 2021년 9월 3일 (금) 10시 ~ 2021년 11월 2일 (화) 24시\\nㆍ 접수방법 : 사람인 입사지원\\nㆍ 이력서양식 : 사람인 온라인 이력서\\nㆍ 제출서류 : 자기소개서, 이력서, 성적증명서\\n유의사항\\nㆍ입사지원 서류에 허위사실이 발견될 경우, 채용확정 이후라도 채용이 취소될 수 있습니다.'"
      ]
     },
     "execution_count": 111,
     "metadata": {},
     "output_type": "execute_result"
    }
   ],
   "source": [
    "driver.find_element_by_css_selector('body').text"
   ]
  },
  {
   "cell_type": "code",
   "execution_count": null,
   "metadata": {},
   "outputs": [],
   "source": []
  }
 ],
 "metadata": {
  "interpreter": {
   "hash": "8ca95d9937370959fe53b3f81cea8b7fb579a8b2e40b3ed544c9c6bb9cfba242"
  },
  "kernelspec": {
   "display_name": "Python 3.7.3 64-bit ('base': conda)",
   "language": "python",
   "name": "python3"
  },
  "language_info": {
   "codemirror_mode": {
    "name": "ipython",
    "version": 3
   },
   "file_extension": ".py",
   "mimetype": "text/x-python",
   "name": "python",
   "nbconvert_exporter": "python",
   "pygments_lexer": "ipython3",
   "version": "3.7.3"
  },
  "orig_nbformat": 4
 },
 "nbformat": 4,
 "nbformat_minor": 2
}
