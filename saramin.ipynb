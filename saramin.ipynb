{
 "cells": [
  {
   "cell_type": "code",
   "execution_count": 1,
   "metadata": {},
   "outputs": [
    {
     "data": {
      "text/plain": [
       "'c:\\\\Users\\\\sonso\\\\Desktop\\\\Git\\\\Study\\\\Contest'"
      ]
     },
     "execution_count": 1,
     "metadata": {},
     "output_type": "execute_result"
    }
   ],
   "source": [
    "import os \n",
    "os.getcwd()"
   ]
  },
  {
   "cell_type": "code",
   "execution_count": 48,
   "metadata": {},
   "outputs": [],
   "source": [
    "import pandas as pd"
   ]
  },
  {
   "cell_type": "code",
   "execution_count": 2,
   "metadata": {},
   "outputs": [],
   "source": [
    "from selenium import webdriver\n",
    "import time\n",
    "\n",
    "\n",
    "driver = webdriver.Chrome('C:/Users/sonso/Desktop/Git/Python/chromedriver.exe')"
   ]
  },
  {
   "cell_type": "code",
   "execution_count": 3,
   "metadata": {},
   "outputs": [],
   "source": [
    "driver.get('https://www.saramin.co.kr/zf_user/jobs/list/job-category?cat_mcls=2&panel_type=&search_optional_item=n&search_done=y&panel_count=y')"
   ]
  },
  {
   "cell_type": "code",
   "execution_count": 10,
   "metadata": {},
   "outputs": [],
   "source": [
    "li = driver.find_element_by_xpath('//*[@id=\"default_list_wrap\"]/section/div[2]')\n",
    "li_nm = li.find_elements_by_css_selector('div.col.company_nm>a')\n",
    "li_title = li.find_elements_by_css_selector('div.job_tit>a')\n",
    "li_condition = li.find_elements_by_css_selector('div.col.recruit_condition')\n",
    "li_company_info = li.find_elements_by_css_selector('div.col.company_info')"
   ]
  },
  {
   "cell_type": "code",
   "execution_count": 24,
   "metadata": {},
   "outputs": [],
   "source": [
    "# li_nm = li.find_elements_by_css_selector('div.col.company_nm>a')"
   ]
  },
  {
   "cell_type": "code",
   "execution_count": 35,
   "metadata": {},
   "outputs": [],
   "source": [
    "# li_title = li.find_elements_by_css_selector('div.job_tit>a')"
   ]
  },
  {
   "cell_type": "code",
   "execution_count": 41,
   "metadata": {},
   "outputs": [],
   "source": [
    "# li_condition = li.find_elements_by_css_selector('div.col.recruit_condition')\n",
    "# li_condition[0].find_elements_by_css_selector('p')[1].text"
   ]
  },
  {
   "cell_type": "code",
   "execution_count": 46,
   "metadata": {},
   "outputs": [
    {
     "data": {
      "text/plain": [
       "'서울 금천구'"
      ]
     },
     "execution_count": 46,
     "metadata": {},
     "output_type": "execute_result"
    }
   ],
   "source": [
    "# li_company_info = li.find_elements_by_css_selector('div.col.company_info')\n",
    "# li_company_info[0].find_elements_by_css_selector('p')[1].text"
   ]
  },
  {
   "cell_type": "code",
   "execution_count": 93,
   "metadata": {},
   "outputs": [
    {
     "name": "stderr",
     "output_type": "stream",
     "text": [
      "C:\\Users\\sonso\\Anaconda3\\lib\\site-packages\\ipykernel_launcher.py:14: DeprecationWarning: use driver.switch_to.window instead\n",
      "  \n",
      "C:\\Users\\sonso\\Anaconda3\\lib\\site-packages\\ipykernel_launcher.py:17: DeprecationWarning: use driver.switch_to.frame instead\n",
      "C:\\Users\\sonso\\Anaconda3\\lib\\site-packages\\ipykernel_launcher.py:25: DeprecationWarning: use driver.switch_to.window instead\n"
     ]
    }
   ],
   "source": [
    "for i in range(50) : \n",
    "    df_nm.append(li_nm[i].text)\n",
    "    df_title.append(li_title[i].text)\n",
    "    df_career.append(li_condition[i].find_elements_by_css_selector('p')[0].text)\n",
    "    df_education.append(li_condition[i].find_elements_by_css_selector('p')[1].text)\n",
    "    df_employment.append(li_company_info[i].find_elements_by_css_selector('p')[0].text)\n",
    "    df_workspace.append(li_company_info[i].find_elements_by_css_selector('p')[1].text)\n",
    "    \n",
    "    # 상세페이지 들어가기 \n",
    "    li_title[i].click()\n",
    "    time.sleep(2)\n",
    "    \n",
    "    # 활성 탭 변경 \n",
    "    driver.switch_to_window(driver.window_handles[1])\n",
    "    \n",
    "    # 상세 내용 iframe으로 이동 \n",
    "    driver.switch_to_frame('iframe_content_0')\n",
    "    \n",
    "    # 상세 내용 \n",
    "    df_content.append(driver.find_element_by_css_selector('body').text)\n",
    "    \n",
    "    # iframe 밖으로 이동 \n",
    "    driver.switch_to.default_content()\n",
    "    driver.close()\n",
    "    driver.switch_to_window(driver.window_handles[0])\n",
    "    \n",
    "\n",
    "df = pd.DataFrame({'nm' : df_nm, \n",
    "                   'title' : df_title,\n",
    "                   'career' : df_career,\n",
    "                   'education' : df_education,\n",
    "                   'employment' : df_employment,\n",
    "                   'workspace' : df_workspace,\n",
    "                   'content' : df_content})"
   ]
  },
  {
   "cell_type": "code",
   "execution_count": 51,
   "metadata": {},
   "outputs": [],
   "source": [
    "# li_title[1].click()"
   ]
  },
  {
   "cell_type": "code",
   "execution_count": 57,
   "metadata": {},
   "outputs": [
    {
     "name": "stderr",
     "output_type": "stream",
     "text": [
      "C:\\Users\\sonso\\Anaconda3\\lib\\site-packages\\ipykernel_launcher.py:1: DeprecationWarning: use driver.switch_to.window instead\n",
      "  \"\"\"Entry point for launching an IPython kernel.\n"
     ]
    }
   ],
   "source": [
    "# driver.switch_to_window(driver.window_handles[1])"
   ]
  },
  {
   "cell_type": "code",
   "execution_count": 81,
   "metadata": {},
   "outputs": [
    {
     "name": "stderr",
     "output_type": "stream",
     "text": [
      "C:\\Users\\sonso\\Anaconda3\\lib\\site-packages\\ipykernel_launcher.py:1: DeprecationWarning: use driver.switch_to.frame instead\n",
      "  \"\"\"Entry point for launching an IPython kernel.\n"
     ]
    }
   ],
   "source": [
    "# driver.switch_to_frame('iframe_content_0')"
   ]
  },
  {
   "cell_type": "code",
   "execution_count": 82,
   "metadata": {},
   "outputs": [
    {
     "data": {
      "text/plain": [
       "'[두리화장품] 웹디자이너 경력직 모집\\n모집부문 및 상세내용  \\n해당 채용은 온라인 사업확장에 따른 채용으로 많은 지원 바랍니다.\\nㆍ학력 : 대졸 이상 (2,3년)\\n웹디자이너 영업2팀(온라인) 1명\\n담당업무\\nㆍ이벤트 및 프로모션 디자인\\nㆍ제품 상세페이지 / 광고컨텐츠 디자인\\nㆍ소셜/오픈마켓/쇼핑몰용 웹 컨텐츠 제작\\nㆍ제품 사진 보정/합성\\nㆍ웹사이트/쇼핑몰 디자인\\n\\n지원자격\\nㆍ경력 : 신입/경력 3년 이상(면접 후 결정)\\n근무조건\\nㆍ 근무형태 : 정규직(수습기간)-1개월\\nㆍ 근무일시 : 주 5일(월~금) 오전 9시~오후 6시\\nㆍ 근무지역 : (06626) 서울 서초구 사임당로 175 갤럭시타워, 13층(서초동) - 신분당선 강남 에서 500m 이내\\n전형절차\\n서류전형\\n1차면접\\n최종합격\\n접수기간 및 방법\\nㆍ 접수기간 : 2021년 10월 25일 (월) 14시 ~ 2021년 12월 24일 (금) 24시\\nㆍ 접수방법 : 사람인 입사지원\\nㆍ 이력서양식 : 사람인 온라인 이력서\\nㆍ 제출서류 : 포트폴리오 제출 필수\\n유의사항\\nㆍ입사지원 서류에 허위사실이 발견될 경우, 채용확정 이후라도 채용이 취소될 수 있습니다.'"
      ]
     },
     "execution_count": 82,
     "metadata": {},
     "output_type": "execute_result"
    }
   ],
   "source": [
    "# driver.find_element_by_css_selector('body').text"
   ]
  },
  {
   "cell_type": "code",
   "execution_count": 83,
   "metadata": {},
   "outputs": [],
   "source": [
    "# driver.switch_to.default_content()"
   ]
  },
  {
   "cell_type": "code",
   "execution_count": 90,
   "metadata": {},
   "outputs": [],
   "source": [
    "# driver.close()"
   ]
  },
  {
   "cell_type": "code",
   "execution_count": 91,
   "metadata": {},
   "outputs": [
    {
     "name": "stderr",
     "output_type": "stream",
     "text": [
      "C:\\Users\\sonso\\Anaconda3\\lib\\site-packages\\ipykernel_launcher.py:1: DeprecationWarning: use driver.switch_to.window instead\n",
      "  \"\"\"Entry point for launching an IPython kernel.\n"
     ]
    }
   ],
   "source": [
    "# driver.switch_to_window(driver.window_handles[0])"
   ]
  },
  {
   "cell_type": "code",
   "execution_count": 94,
   "metadata": {},
   "outputs": [
    {
     "data": {
      "text/html": [
       "<div>\n",
       "<style scoped>\n",
       "    .dataframe tbody tr th:only-of-type {\n",
       "        vertical-align: middle;\n",
       "    }\n",
       "\n",
       "    .dataframe tbody tr th {\n",
       "        vertical-align: top;\n",
       "    }\n",
       "\n",
       "    .dataframe thead th {\n",
       "        text-align: right;\n",
       "    }\n",
       "</style>\n",
       "<table border=\"1\" class=\"dataframe\">\n",
       "  <thead>\n",
       "    <tr style=\"text-align: right;\">\n",
       "      <th></th>\n",
       "      <th>nm</th>\n",
       "      <th>title</th>\n",
       "      <th>career</th>\n",
       "      <th>education</th>\n",
       "      <th>employment</th>\n",
       "      <th>workspace</th>\n",
       "      <th>content</th>\n",
       "    </tr>\n",
       "  </thead>\n",
       "  <tbody>\n",
       "    <tr>\n",
       "      <th>0</th>\n",
       "      <td>(주)씨앤비플러스</td>\n",
       "      <td>JAVA 신입 개발자 모집[정규직공채]</td>\n",
       "      <td>신입</td>\n",
       "      <td>대학(2,3년)↑</td>\n",
       "      <td>정규직</td>\n",
       "      <td>서울 금천구</td>\n",
       "      <td>JAVA 신입 개발자 모집[정규직]\\n모집부문 및 상세내용\\n공통 자격요건\\nㆍ학력...</td>\n",
       "    </tr>\n",
       "    <tr>\n",
       "      <th>1</th>\n",
       "      <td>두리화장품(주)</td>\n",
       "      <td>[두리화장품] 웹디자이너 경력직 모집</td>\n",
       "      <td>신입 · 경력</td>\n",
       "      <td>대학(2,3년)↑</td>\n",
       "      <td>정규직</td>\n",
       "      <td>서울 서초구</td>\n",
       "      <td>[두리화장품] 웹디자이너 경력직 모집\\n모집부문 및 상세내용  \\n해당 채용은 온라...</td>\n",
       "    </tr>\n",
       "    <tr>\n",
       "      <th>2</th>\n",
       "      <td>(주) 하트게임즈</td>\n",
       "      <td>자바스크립트] 하트게임즈 페이스북 게임 개발자 채용</td>\n",
       "      <td>경력무관</td>\n",
       "      <td>대학(2,3년)↑</td>\n",
       "      <td>정규직</td>\n",
       "      <td>서울 강남구</td>\n",
       "      <td>정규직) JavaScript 모바일/웹게임 클라이언트 개발자 채용\\n\\n\\n주식회사...</td>\n",
       "    </tr>\n",
       "    <tr>\n",
       "      <th>3</th>\n",
       "      <td>(주)카이런소프트</td>\n",
       "      <td>CTO PM PL 팀장급 경력직 모집</td>\n",
       "      <td>경력 5년↑</td>\n",
       "      <td>대학교(4년)↑</td>\n",
       "      <td>정규직</td>\n",
       "      <td>대전 유성구</td>\n",
       "      <td>모집부문 및 상세내용\\n공통 자격요건\\nㆍ학력 : 대졸 이상 (4년)\\nㆍ나이/성별...</td>\n",
       "    </tr>\n",
       "    <tr>\n",
       "      <th>4</th>\n",
       "      <td>(주)골든스카이인터내셔널</td>\n",
       "      <td>쇼핑몰 웹디자인 상세페이지 사원 모집</td>\n",
       "      <td>2 ~ 10년</td>\n",
       "      <td>고졸↑</td>\n",
       "      <td>정규직</td>\n",
       "      <td>서울 금천구</td>\n",
       "      <td>쇼핑몰 웹디자인 상세페이지 사원 모집\\n모집부문 및 상세내용\\n공통 자격요건\\nㆍ학...</td>\n",
       "    </tr>\n",
       "  </tbody>\n",
       "</table>\n",
       "</div>"
      ],
      "text/plain": [
       "              nm                         title   career  education employment  \\\n",
       "0      (주)씨앤비플러스         JAVA 신입 개발자 모집[정규직공채]       신입  대학(2,3년)↑        정규직   \n",
       "1       두리화장품(주)          [두리화장품] 웹디자이너 경력직 모집  신입 · 경력  대학(2,3년)↑        정규직   \n",
       "2      (주) 하트게임즈  자바스크립트] 하트게임즈 페이스북 게임 개발자 채용     경력무관  대학(2,3년)↑        정규직   \n",
       "3      (주)카이런소프트          CTO PM PL 팀장급 경력직 모집   경력 5년↑   대학교(4년)↑        정규직   \n",
       "4  (주)골든스카이인터내셔널          쇼핑몰 웹디자인 상세페이지 사원 모집  2 ~ 10년        고졸↑        정규직   \n",
       "\n",
       "  workspace                                            content  \n",
       "0    서울 금천구  JAVA 신입 개발자 모집[정규직]\\n모집부문 및 상세내용\\n공통 자격요건\\nㆍ학력...  \n",
       "1    서울 서초구  [두리화장품] 웹디자이너 경력직 모집\\n모집부문 및 상세내용  \\n해당 채용은 온라...  \n",
       "2    서울 강남구  정규직) JavaScript 모바일/웹게임 클라이언트 개발자 채용\\n\\n\\n주식회사...  \n",
       "3    대전 유성구  모집부문 및 상세내용\\n공통 자격요건\\nㆍ학력 : 대졸 이상 (4년)\\nㆍ나이/성별...  \n",
       "4    서울 금천구  쇼핑몰 웹디자인 상세페이지 사원 모집\\n모집부문 및 상세내용\\n공통 자격요건\\nㆍ학...  "
      ]
     },
     "execution_count": 94,
     "metadata": {},
     "output_type": "execute_result"
    }
   ],
   "source": [
    "df.head()"
   ]
  },
  {
   "cell_type": "code",
   "execution_count": 97,
   "metadata": {},
   "outputs": [
    {
     "data": {
      "text/plain": [
       "['JAVA 신입 개발자 모집[정규직]',\n",
       " '모집부문 및 상세내용',\n",
       " '공통 자격요건',\n",
       " 'ㆍ학력 : 초대졸 이상 (2,3년)',\n",
       " 'ㆍjava 학원 수료자',\n",
       " '웹프로그램 개발 SI사업부 0명',\n",
       " '담당업무',\n",
       " 'ㆍ프로그램 개발',\n",
       " '',\n",
       " '근무조건',\n",
       " 'ㆍ 근무형태 : 정규직',\n",
       " 'ㆍ 근무일시 : 주 5일(월~금) 오전 9시~오후 6시',\n",
       " 'ㆍ 근무지역 : (08501) 서울 금천구 가산디지털1로 225, 1609호 (가산동, 에이스가산포휴)(가산동) - 서울 1호선 가산디지털단지 에서 800m 이내',\n",
       " '전형절차',\n",
       " '서류전형',\n",
       " '1차면접',\n",
       " '최종합격',\n",
       " '접수기간 및 방법',\n",
       " 'ㆍ 접수기간 : 채용시까지',\n",
       " 'ㆍ 접수방법 : 사람인 입사지원',\n",
       " 'ㆍ 이력서양식 : 사람인 온라인 이력서',\n",
       " '유의사항',\n",
       " 'ㆍ입사지원 서류에 허위사실이 발견될 경우, 채용확정 이후라도 채용이 취소될 수 있습니다.']"
      ]
     },
     "execution_count": 97,
     "metadata": {},
     "output_type": "execute_result"
    }
   ],
   "source": [
    "df.content[0].split('\\n')"
   ]
  },
  {
   "cell_type": "code",
   "execution_count": 141,
   "metadata": {},
   "outputs": [],
   "source": [
    "df_nm, df_title, df_career, df_education, df_employment, df_workspace, df_content = [],[],[],[],[],[],[]"
   ]
  },
  {
   "cell_type": "code",
   "execution_count": 142,
   "metadata": {},
   "outputs": [
    {
     "name": "stdout",
     "output_type": "stream",
     "text": [
      "169\n"
     ]
    },
    {
     "name": "stderr",
     "output_type": "stream",
     "text": [
      "C:\\Users\\sonso\\Anaconda3\\lib\\site-packages\\ipykernel_launcher.py:50: DeprecationWarning: use driver.switch_to.window instead\n",
      "C:\\Users\\sonso\\Anaconda3\\lib\\site-packages\\ipykernel_launcher.py:55: DeprecationWarning: use driver.switch_to.frame instead\n",
      "C:\\Users\\sonso\\Anaconda3\\lib\\site-packages\\ipykernel_launcher.py:69: DeprecationWarning: use driver.switch_to.window instead\n"
     ]
    },
    {
     "name": "stdout",
     "output_type": "stream",
     "text": [
      "170\n",
      "171\n",
      "172\n",
      "173\n",
      "174\n",
      "175\n",
      "176\n",
      "177\n",
      "178\n",
      "179\n",
      "180\n",
      "181\n",
      "182\n",
      "183\n",
      "184\n",
      "185\n",
      "186\n",
      "187\n",
      "188\n",
      "189\n",
      "190\n",
      "191\n",
      "192\n",
      "193\n",
      "194\n",
      "195\n",
      "196\n",
      "197\n",
      "198\n",
      "199\n",
      "200\n"
     ]
    }
   ],
   "source": [
    "for page in range(169,201) : \n",
    "    driver = webdriver.Chrome('C:/Users/sonso/Desktop/Git/Python/chromedriver.exe')\n",
    "    base_url = f'https://www.saramin.co.kr/zf_user/jobs/list/job-category?page={page}&cat_mcls=2&search_optional_item=n&search_done=y&panel_count=y&isAjaxRequest=0&page_count=50&sort=RL&type=job-category&is_param=1&isSearchResultEmpty=1&isSectionHome=0&searchParamCount=1#searchTitle'\n",
    "    driver.get(base_url)\n",
    "    time.sleep(1.5)\n",
    "    \n",
    "    print(page)\n",
    "    li = driver.find_element_by_xpath('//*[@id=\"default_list_wrap\"]/section/div[2]')\n",
    "    li_nm = li.find_elements_by_css_selector('div.col.company_nm>a')\n",
    "    li_title = li.find_elements_by_css_selector('div.job_tit>a')\n",
    "    li_condition = li.find_elements_by_css_selector('div.col.recruit_condition')\n",
    "    li_company_info = li.find_elements_by_css_selector('div.col.company_info')\n",
    "    \n",
    "    for i in range(50) : \n",
    "        try : \n",
    "            df_nm.append(li_nm[i].text)\n",
    "        except: \n",
    "            df_nm.append('')\n",
    "        \n",
    "        try :\n",
    "            df_title.append(li_title[i].text)\n",
    "        except : \n",
    "            df_title.append('')\n",
    "            \n",
    "        try : \n",
    "            df_career.append(li_condition[i].find_elements_by_css_selector('p')[0].text)\n",
    "        except : \n",
    "            df_career.append('')\n",
    "        \n",
    "        try : \n",
    "            df_education.append(li_condition[i].find_elements_by_css_selector('p')[1].text)\n",
    "        except : \n",
    "            df_education.append('')\n",
    "            \n",
    "        try : \n",
    "            df_employment.append(li_company_info[i].find_elements_by_css_selector('p')[0].text)\n",
    "        except : \n",
    "            df_employment.append('')\n",
    "        \n",
    "        try : \n",
    "            df_workspace.append(li_company_info[i].find_elements_by_css_selector('p')[1].text)\n",
    "        except : \n",
    "            df_workspace.append('')\n",
    "        \n",
    "        # 상세페이지 들어가기 \n",
    "        li_title[i].click()\n",
    "        time.sleep(1.5)\n",
    "        \n",
    "        # 활성 탭 변경 \n",
    "        driver.switch_to_window(driver.window_handles[1])\n",
    "        \n",
    "        \n",
    "        try : \n",
    "        # 상세 내용 iframe으로 이동 \n",
    "            driver.switch_to_frame('iframe_content_0')\n",
    "            \n",
    "            # 상세 내용 \n",
    "            df_content.append(driver.find_element_by_css_selector('body').text)\n",
    "            time.sleep(1)\n",
    "            \n",
    "            # iframe 밖으로 이동 \n",
    "            driver.switch_to.default_content()\n",
    "            \n",
    "        except : \n",
    "            df_content.append('')\n",
    "        \n",
    "        \n",
    "        driver.close()\n",
    "        driver.switch_to_window(driver.window_handles[0])\n",
    "    driver.close()\n",
    "    \n",
    "\n",
    "\n",
    "df3 = pd.DataFrame({'nm' : df_nm, \n",
    "                   'title' : df_title,\n",
    "                   'career' : df_career,\n",
    "                   'education' : df_education,\n",
    "                   'employment' : df_employment,\n",
    "                   'workspace' : df_workspace,\n",
    "                   'content' : df_content})\n",
    "    \n",
    "    \n",
    "    "
   ]
  },
  {
   "cell_type": "code",
   "execution_count": 137,
   "metadata": {},
   "outputs": [
    {
     "data": {
      "text/plain": [
       "169"
      ]
     },
     "execution_count": 137,
     "metadata": {},
     "output_type": "execute_result"
    }
   ],
   "source": [
    "page"
   ]
  },
  {
   "cell_type": "code",
   "execution_count": 140,
   "metadata": {},
   "outputs": [],
   "source": [
    "li_title[i].click()"
   ]
  },
  {
   "cell_type": "code",
   "execution_count": 134,
   "metadata": {},
   "outputs": [
    {
     "ename": "ValueError",
     "evalue": "arrays must all be same length",
     "output_type": "error",
     "traceback": [
      "\u001b[1;31m---------------------------------------------------------------------------\u001b[0m",
      "\u001b[1;31mValueError\u001b[0m                                Traceback (most recent call last)",
      "\u001b[1;32m<ipython-input-134-e16e7e1251ce>\u001b[0m in \u001b[0;36m<module>\u001b[1;34m\u001b[0m\n\u001b[0;32m      5\u001b[0m                    \u001b[1;34m'employment'\u001b[0m \u001b[1;33m:\u001b[0m \u001b[0mdf_employment\u001b[0m\u001b[1;33m,\u001b[0m\u001b[1;33m\u001b[0m\u001b[1;33m\u001b[0m\u001b[0m\n\u001b[0;32m      6\u001b[0m                    \u001b[1;34m'workspace'\u001b[0m \u001b[1;33m:\u001b[0m \u001b[0mdf_workspace\u001b[0m\u001b[1;33m,\u001b[0m\u001b[1;33m\u001b[0m\u001b[1;33m\u001b[0m\u001b[0m\n\u001b[1;32m----> 7\u001b[1;33m                    'content' : df_content})\n\u001b[0m",
      "\u001b[1;32m~\\Anaconda3\\lib\\site-packages\\pandas\\core\\frame.py\u001b[0m in \u001b[0;36m__init__\u001b[1;34m(self, data, index, columns, dtype, copy)\u001b[0m\n\u001b[0;32m    527\u001b[0m \u001b[1;33m\u001b[0m\u001b[0m\n\u001b[0;32m    528\u001b[0m         \u001b[1;32melif\u001b[0m \u001b[0misinstance\u001b[0m\u001b[1;33m(\u001b[0m\u001b[0mdata\u001b[0m\u001b[1;33m,\u001b[0m \u001b[0mdict\u001b[0m\u001b[1;33m)\u001b[0m\u001b[1;33m:\u001b[0m\u001b[1;33m\u001b[0m\u001b[1;33m\u001b[0m\u001b[0m\n\u001b[1;32m--> 529\u001b[1;33m             \u001b[0mmgr\u001b[0m \u001b[1;33m=\u001b[0m \u001b[0minit_dict\u001b[0m\u001b[1;33m(\u001b[0m\u001b[0mdata\u001b[0m\u001b[1;33m,\u001b[0m \u001b[0mindex\u001b[0m\u001b[1;33m,\u001b[0m \u001b[0mcolumns\u001b[0m\u001b[1;33m,\u001b[0m \u001b[0mdtype\u001b[0m\u001b[1;33m=\u001b[0m\u001b[0mdtype\u001b[0m\u001b[1;33m)\u001b[0m\u001b[1;33m\u001b[0m\u001b[1;33m\u001b[0m\u001b[0m\n\u001b[0m\u001b[0;32m    530\u001b[0m         \u001b[1;32melif\u001b[0m \u001b[0misinstance\u001b[0m\u001b[1;33m(\u001b[0m\u001b[0mdata\u001b[0m\u001b[1;33m,\u001b[0m \u001b[0mma\u001b[0m\u001b[1;33m.\u001b[0m\u001b[0mMaskedArray\u001b[0m\u001b[1;33m)\u001b[0m\u001b[1;33m:\u001b[0m\u001b[1;33m\u001b[0m\u001b[1;33m\u001b[0m\u001b[0m\n\u001b[0;32m    531\u001b[0m             \u001b[1;32mimport\u001b[0m \u001b[0mnumpy\u001b[0m\u001b[1;33m.\u001b[0m\u001b[0mma\u001b[0m\u001b[1;33m.\u001b[0m\u001b[0mmrecords\u001b[0m \u001b[1;32mas\u001b[0m \u001b[0mmrecords\u001b[0m\u001b[1;33m\u001b[0m\u001b[1;33m\u001b[0m\u001b[0m\n",
      "\u001b[1;32m~\\Anaconda3\\lib\\site-packages\\pandas\\core\\internals\\construction.py\u001b[0m in \u001b[0;36minit_dict\u001b[1;34m(data, index, columns, dtype)\u001b[0m\n\u001b[0;32m    285\u001b[0m             \u001b[0marr\u001b[0m \u001b[1;32mif\u001b[0m \u001b[1;32mnot\u001b[0m \u001b[0mis_datetime64tz_dtype\u001b[0m\u001b[1;33m(\u001b[0m\u001b[0marr\u001b[0m\u001b[1;33m)\u001b[0m \u001b[1;32melse\u001b[0m \u001b[0marr\u001b[0m\u001b[1;33m.\u001b[0m\u001b[0mcopy\u001b[0m\u001b[1;33m(\u001b[0m\u001b[1;33m)\u001b[0m \u001b[1;32mfor\u001b[0m \u001b[0marr\u001b[0m \u001b[1;32min\u001b[0m \u001b[0marrays\u001b[0m\u001b[1;33m\u001b[0m\u001b[1;33m\u001b[0m\u001b[0m\n\u001b[0;32m    286\u001b[0m         ]\n\u001b[1;32m--> 287\u001b[1;33m     \u001b[1;32mreturn\u001b[0m \u001b[0marrays_to_mgr\u001b[0m\u001b[1;33m(\u001b[0m\u001b[0marrays\u001b[0m\u001b[1;33m,\u001b[0m \u001b[0mdata_names\u001b[0m\u001b[1;33m,\u001b[0m \u001b[0mindex\u001b[0m\u001b[1;33m,\u001b[0m \u001b[0mcolumns\u001b[0m\u001b[1;33m,\u001b[0m \u001b[0mdtype\u001b[0m\u001b[1;33m=\u001b[0m\u001b[0mdtype\u001b[0m\u001b[1;33m)\u001b[0m\u001b[1;33m\u001b[0m\u001b[1;33m\u001b[0m\u001b[0m\n\u001b[0m\u001b[0;32m    288\u001b[0m \u001b[1;33m\u001b[0m\u001b[0m\n\u001b[0;32m    289\u001b[0m \u001b[1;33m\u001b[0m\u001b[0m\n",
      "\u001b[1;32m~\\Anaconda3\\lib\\site-packages\\pandas\\core\\internals\\construction.py\u001b[0m in \u001b[0;36marrays_to_mgr\u001b[1;34m(arrays, arr_names, index, columns, dtype, verify_integrity)\u001b[0m\n\u001b[0;32m     78\u001b[0m         \u001b[1;31m# figure out the index, if necessary\u001b[0m\u001b[1;33m\u001b[0m\u001b[1;33m\u001b[0m\u001b[1;33m\u001b[0m\u001b[0m\n\u001b[0;32m     79\u001b[0m         \u001b[1;32mif\u001b[0m \u001b[0mindex\u001b[0m \u001b[1;32mis\u001b[0m \u001b[1;32mNone\u001b[0m\u001b[1;33m:\u001b[0m\u001b[1;33m\u001b[0m\u001b[1;33m\u001b[0m\u001b[0m\n\u001b[1;32m---> 80\u001b[1;33m             \u001b[0mindex\u001b[0m \u001b[1;33m=\u001b[0m \u001b[0mextract_index\u001b[0m\u001b[1;33m(\u001b[0m\u001b[0marrays\u001b[0m\u001b[1;33m)\u001b[0m\u001b[1;33m\u001b[0m\u001b[1;33m\u001b[0m\u001b[0m\n\u001b[0m\u001b[0;32m     81\u001b[0m         \u001b[1;32melse\u001b[0m\u001b[1;33m:\u001b[0m\u001b[1;33m\u001b[0m\u001b[1;33m\u001b[0m\u001b[0m\n\u001b[0;32m     82\u001b[0m             \u001b[0mindex\u001b[0m \u001b[1;33m=\u001b[0m \u001b[0mensure_index\u001b[0m\u001b[1;33m(\u001b[0m\u001b[0mindex\u001b[0m\u001b[1;33m)\u001b[0m\u001b[1;33m\u001b[0m\u001b[1;33m\u001b[0m\u001b[0m\n",
      "\u001b[1;32m~\\Anaconda3\\lib\\site-packages\\pandas\\core\\internals\\construction.py\u001b[0m in \u001b[0;36mextract_index\u001b[1;34m(data)\u001b[0m\n\u001b[0;32m    399\u001b[0m             \u001b[0mlengths\u001b[0m \u001b[1;33m=\u001b[0m \u001b[0mlist\u001b[0m\u001b[1;33m(\u001b[0m\u001b[0mset\u001b[0m\u001b[1;33m(\u001b[0m\u001b[0mraw_lengths\u001b[0m\u001b[1;33m)\u001b[0m\u001b[1;33m)\u001b[0m\u001b[1;33m\u001b[0m\u001b[1;33m\u001b[0m\u001b[0m\n\u001b[0;32m    400\u001b[0m             \u001b[1;32mif\u001b[0m \u001b[0mlen\u001b[0m\u001b[1;33m(\u001b[0m\u001b[0mlengths\u001b[0m\u001b[1;33m)\u001b[0m \u001b[1;33m>\u001b[0m \u001b[1;36m1\u001b[0m\u001b[1;33m:\u001b[0m\u001b[1;33m\u001b[0m\u001b[1;33m\u001b[0m\u001b[0m\n\u001b[1;32m--> 401\u001b[1;33m                 \u001b[1;32mraise\u001b[0m \u001b[0mValueError\u001b[0m\u001b[1;33m(\u001b[0m\u001b[1;34m\"arrays must all be same length\"\u001b[0m\u001b[1;33m)\u001b[0m\u001b[1;33m\u001b[0m\u001b[1;33m\u001b[0m\u001b[0m\n\u001b[0m\u001b[0;32m    402\u001b[0m \u001b[1;33m\u001b[0m\u001b[0m\n\u001b[0;32m    403\u001b[0m             \u001b[1;32mif\u001b[0m \u001b[0mhave_dicts\u001b[0m\u001b[1;33m:\u001b[0m\u001b[1;33m\u001b[0m\u001b[1;33m\u001b[0m\u001b[0m\n",
      "\u001b[1;31mValueError\u001b[0m: arrays must all be same length"
     ]
    }
   ],
   "source": [
    "df3 = pd.DataFrame({'nm' : df_nm, \n",
    "                   'title' : df_title,\n",
    "                   'career' : df_career,\n",
    "                   'education' : df_education,\n",
    "                   'employment' : df_employment,\n",
    "                   'workspace' : df_workspace,\n",
    "                   'content' : df_content})"
   ]
  },
  {
   "cell_type": "code",
   "execution_count": 117,
   "metadata": {},
   "outputs": [],
   "source": [
    "df = pd.DataFrame({'nm' : df_nm, \n",
    "                   'title' : df_title,\n",
    "                   'career' : df_career,\n",
    "                   'education' : df_education,\n",
    "                   'employment' : df_employment,\n",
    "                   'workspace' : df_workspace,\n",
    "                   'content' : df_content})"
   ]
  },
  {
   "cell_type": "code",
   "execution_count": 118,
   "metadata": {},
   "outputs": [
    {
     "data": {
      "text/html": [
       "<div>\n",
       "<style scoped>\n",
       "    .dataframe tbody tr th:only-of-type {\n",
       "        vertical-align: middle;\n",
       "    }\n",
       "\n",
       "    .dataframe tbody tr th {\n",
       "        vertical-align: top;\n",
       "    }\n",
       "\n",
       "    .dataframe thead th {\n",
       "        text-align: right;\n",
       "    }\n",
       "</style>\n",
       "<table border=\"1\" class=\"dataframe\">\n",
       "  <thead>\n",
       "    <tr style=\"text-align: right;\">\n",
       "      <th></th>\n",
       "      <th>nm</th>\n",
       "      <th>title</th>\n",
       "      <th>career</th>\n",
       "      <th>education</th>\n",
       "      <th>employment</th>\n",
       "      <th>workspace</th>\n",
       "      <th>content</th>\n",
       "    </tr>\n",
       "  </thead>\n",
       "  <tbody>\n",
       "    <tr>\n",
       "      <th>0</th>\n",
       "      <td>(주)비에스케이코퍼레이션</td>\n",
       "      <td>[더바디샵/고디바] 본사 전산팀(자사몰) 개발운영 경력직 채용</td>\n",
       "      <td>경력 3년↑</td>\n",
       "      <td>학력무관</td>\n",
       "      <td>정규직</td>\n",
       "      <td>서울 강남구</td>\n",
       "      <td>[더바디샵/고디바/홀랜드앤바렛]\\n본사 전산팀 경력직 채용\\n모집부문 및 상세내용\\...</td>\n",
       "    </tr>\n",
       "    <tr>\n",
       "      <th>1</th>\n",
       "      <td>(주)버추얼랩</td>\n",
       "      <td>자바 백엔드 개발자를 모십니다 (R&amp;D솔루션 개발)</td>\n",
       "      <td>경력 1년↑</td>\n",
       "      <td>학력무관</td>\n",
       "      <td>정규직</td>\n",
       "      <td>서울 성동구</td>\n",
       "      <td>자바 백엔드 개발자를 모십니다 (R&amp;D솔루션 개발)\\n모집부문 및 상세내용\\n자바 ...</td>\n",
       "    </tr>\n",
       "    <tr>\n",
       "      <th>2</th>\n",
       "      <td>(주)에이치엠인터내셔날</td>\n",
       "      <td>백엔드 개발자</td>\n",
       "      <td>3 ~ 15년</td>\n",
       "      <td>학력무관</td>\n",
       "      <td>정규직</td>\n",
       "      <td>서울전체</td>\n",
       "      <td></td>\n",
       "    </tr>\n",
       "    <tr>\n",
       "      <th>3</th>\n",
       "      <td>(주)에이치엠인터내셔날</td>\n",
       "      <td>프론트엔드 개발자</td>\n",
       "      <td>2 ~ 17년</td>\n",
       "      <td>학력무관</td>\n",
       "      <td>정규직</td>\n",
       "      <td>서울전체</td>\n",
       "      <td>프론트엔드 개발자\\n서비스 소개\\n자사는 ktown4u 서비스를 운영하고 있는 Gl...</td>\n",
       "    </tr>\n",
       "    <tr>\n",
       "      <th>4</th>\n",
       "      <td>(주)주연전자서비스</td>\n",
       "      <td>PC, 네트워크 유지보수, CCTV 설치 모집</td>\n",
       "      <td>경력무관</td>\n",
       "      <td>학력무관</td>\n",
       "      <td>정규직 · 계약직</td>\n",
       "      <td>서울 서초구</td>\n",
       "      <td>채용정보\\n기업·연봉정보\\n인재풀\\n인적성·면접\\n검색어를 입력하세요 로그인 회원가...</td>\n",
       "    </tr>\n",
       "  </tbody>\n",
       "</table>\n",
       "</div>"
      ],
      "text/plain": [
       "              nm                               title   career education  \\\n",
       "0  (주)비에스케이코퍼레이션  [더바디샵/고디바] 본사 전산팀(자사몰) 개발운영 경력직 채용   경력 3년↑      학력무관   \n",
       "1        (주)버추얼랩        자바 백엔드 개발자를 모십니다 (R&D솔루션 개발)   경력 1년↑      학력무관   \n",
       "2   (주)에이치엠인터내셔날                             백엔드 개발자  3 ~ 15년      학력무관   \n",
       "3   (주)에이치엠인터내셔날                           프론트엔드 개발자  2 ~ 17년      학력무관   \n",
       "4     (주)주연전자서비스           PC, 네트워크 유지보수, CCTV 설치 모집     경력무관      학력무관   \n",
       "\n",
       "  employment workspace                                            content  \n",
       "0        정규직    서울 강남구  [더바디샵/고디바/홀랜드앤바렛]\\n본사 전산팀 경력직 채용\\n모집부문 및 상세내용\\...  \n",
       "1        정규직    서울 성동구  자바 백엔드 개발자를 모십니다 (R&D솔루션 개발)\\n모집부문 및 상세내용\\n자바 ...  \n",
       "2        정규직      서울전체                                                     \n",
       "3        정규직      서울전체  프론트엔드 개발자\\n서비스 소개\\n자사는 ktown4u 서비스를 운영하고 있는 Gl...  \n",
       "4  정규직 · 계약직    서울 서초구  채용정보\\n기업·연봉정보\\n인재풀\\n인적성·면접\\n검색어를 입력하세요 로그인 회원가...  "
      ]
     },
     "execution_count": 118,
     "metadata": {},
     "output_type": "execute_result"
    }
   ],
   "source": [
    "df.head()"
   ]
  },
  {
   "cell_type": "code",
   "execution_count": 119,
   "metadata": {},
   "outputs": [
    {
     "data": {
      "text/plain": [
       "(5800, 7)"
      ]
     },
     "execution_count": 119,
     "metadata": {},
     "output_type": "execute_result"
    }
   ],
   "source": [
    "df.shape"
   ]
  },
  {
   "cell_type": "code",
   "execution_count": 127,
   "metadata": {},
   "outputs": [],
   "source": [
    "df.to_csv('./saramin1.csv')"
   ]
  },
  {
   "cell_type": "code",
   "execution_count": 124,
   "metadata": {},
   "outputs": [],
   "source": [
    "df2 = pd.DataFrame({'nm' : df_nm, \n",
    "                   'title' : df_title,\n",
    "                   'career' : df_career,\n",
    "                   'education' : df_education,\n",
    "                   'employment' : df_employment,\n",
    "                   'workspace' : df_workspace,\n",
    "                   'content' : df_content})"
   ]
  },
  {
   "cell_type": "code",
   "execution_count": 126,
   "metadata": {},
   "outputs": [],
   "source": [
    "df2.to_csv('./saramin2.csv')"
   ]
  },
  {
   "cell_type": "code",
   "execution_count": 129,
   "metadata": {},
   "outputs": [
    {
     "data": {
      "text/html": [
       "<div>\n",
       "<style scoped>\n",
       "    .dataframe tbody tr th:only-of-type {\n",
       "        vertical-align: middle;\n",
       "    }\n",
       "\n",
       "    .dataframe tbody tr th {\n",
       "        vertical-align: top;\n",
       "    }\n",
       "\n",
       "    .dataframe thead th {\n",
       "        text-align: right;\n",
       "    }\n",
       "</style>\n",
       "<table border=\"1\" class=\"dataframe\">\n",
       "  <thead>\n",
       "    <tr style=\"text-align: right;\">\n",
       "      <th></th>\n",
       "      <th>nm</th>\n",
       "      <th>title</th>\n",
       "      <th>career</th>\n",
       "      <th>education</th>\n",
       "      <th>employment</th>\n",
       "      <th>workspace</th>\n",
       "      <th>content</th>\n",
       "    </tr>\n",
       "  </thead>\n",
       "  <tbody>\n",
       "    <tr>\n",
       "      <th>0</th>\n",
       "      <td>(주)참약사</td>\n",
       "      <td>(주)참약사 신입/경력 추가 채용</td>\n",
       "      <td>경력무관</td>\n",
       "      <td>학력무관</td>\n",
       "      <td>정규직</td>\n",
       "      <td>서울 성북구</td>\n",
       "      <td></td>\n",
       "    </tr>\n",
       "    <tr>\n",
       "      <th>1</th>\n",
       "      <td>(주)에스엔에이</td>\n",
       "      <td>2021년 하반기 서버 및 보안 엔지니어 정규직 채용(신입,경력)</td>\n",
       "      <td>신입 · 경력</td>\n",
       "      <td>학력무관</td>\n",
       "      <td>정규직</td>\n",
       "      <td>서울 성동구</td>\n",
       "      <td>2021년 하반기 서버 및 보안 엔지니어 정규직 채용(신입,경력)\\n모집부문 및 상...</td>\n",
       "    </tr>\n",
       "    <tr>\n",
       "      <th>2</th>\n",
       "      <td>(주)이룸컴퍼니</td>\n",
       "      <td>2021 이룸컴퍼니 서울 지사 - 분야별 채용공고</td>\n",
       "      <td>경력 1년↑</td>\n",
       "      <td>학력무관</td>\n",
       "      <td>정규직</td>\n",
       "      <td>서울 영등포구</td>\n",
       "      <td></td>\n",
       "    </tr>\n",
       "    <tr>\n",
       "      <th>3</th>\n",
       "      <td>(주)아르떼뮤지엄코리아</td>\n",
       "      <td>[전남] 아르떼뮤지엄-여수 시설유지보수 직원 채용</td>\n",
       "      <td>경력무관</td>\n",
       "      <td>학력무관</td>\n",
       "      <td>정규직</td>\n",
       "      <td>전남 여수시</td>\n",
       "      <td>[전남] 아르떼뮤지엄-여수 시설유지보수 직원 채용\\n아르떼뮤지엄은 2020년 제주에...</td>\n",
       "    </tr>\n",
       "    <tr>\n",
       "      <th>4</th>\n",
       "      <td>(주)엠브레인</td>\n",
       "      <td>차량용 블랙박스 S/W, H/W개발자 채용</td>\n",
       "      <td>경력무관</td>\n",
       "      <td>대학(2,3년)↑</td>\n",
       "      <td>정규직 · 병역특례</td>\n",
       "      <td>서울 금천구</td>\n",
       "      <td>모집부문 및 자격요건\\n모집분야\\n담당업무\\n상세내용\\nS/W\\n(서울 근무)\\n ...</td>\n",
       "    </tr>\n",
       "    <tr>\n",
       "      <th>...</th>\n",
       "      <td>...</td>\n",
       "      <td>...</td>\n",
       "      <td>...</td>\n",
       "      <td>...</td>\n",
       "      <td>...</td>\n",
       "      <td>...</td>\n",
       "      <td>...</td>\n",
       "    </tr>\n",
       "    <tr>\n",
       "      <th>2595</th>\n",
       "      <td>(주)비바리퍼블리카</td>\n",
       "      <td>[토스뱅크] Validation Manager (CSS 모형)를 모십니다</td>\n",
       "      <td>경력무관</td>\n",
       "      <td>학력무관</td>\n",
       "      <td>정규직</td>\n",
       "      <td>서울 강남구</td>\n",
       "      <td></td>\n",
       "    </tr>\n",
       "    <tr>\n",
       "      <th>2596</th>\n",
       "      <td>(주)골라라</td>\n",
       "      <td>[골라라] QA/QC 엔지니어(QA/QC Genius)</td>\n",
       "      <td>3 ~ 15년</td>\n",
       "      <td>학력무관</td>\n",
       "      <td>정규직</td>\n",
       "      <td>서울전체</td>\n",
       "      <td></td>\n",
       "    </tr>\n",
       "    <tr>\n",
       "      <th>2597</th>\n",
       "      <td>(주)지니웍스</td>\n",
       "      <td>Java 개발 경력 채용</td>\n",
       "      <td>5 ~ 12년</td>\n",
       "      <td>대학교(4년)↑</td>\n",
       "      <td>정규직</td>\n",
       "      <td>서울전체</td>\n",
       "      <td></td>\n",
       "    </tr>\n",
       "    <tr>\n",
       "      <th>2598</th>\n",
       "      <td>(주)아이스크림에듀</td>\n",
       "      <td>UX리서치 고객데이터 분석 담당</td>\n",
       "      <td>경력 3년↑</td>\n",
       "      <td>학력무관</td>\n",
       "      <td>정규직</td>\n",
       "      <td>서울 강남구</td>\n",
       "      <td></td>\n",
       "    </tr>\n",
       "    <tr>\n",
       "      <th>2599</th>\n",
       "      <td>(주)아이스크림에듀</td>\n",
       "      <td>마케팅실 퍼포먼스 광고/영업관리 모집</td>\n",
       "      <td>경력 2년↑</td>\n",
       "      <td>학력무관</td>\n",
       "      <td>정규직</td>\n",
       "      <td>서울 강남구</td>\n",
       "      <td></td>\n",
       "    </tr>\n",
       "  </tbody>\n",
       "</table>\n",
       "<p>2600 rows × 7 columns</p>\n",
       "</div>"
      ],
      "text/plain": [
       "                nm                                     title   career  \\\n",
       "0           (주)참약사                        (주)참약사 신입/경력 추가 채용     경력무관   \n",
       "1         (주)에스엔에이      2021년 하반기 서버 및 보안 엔지니어 정규직 채용(신입,경력)  신입 · 경력   \n",
       "2         (주)이룸컴퍼니               2021 이룸컴퍼니 서울 지사 - 분야별 채용공고   경력 1년↑   \n",
       "3     (주)아르떼뮤지엄코리아               [전남] 아르떼뮤지엄-여수 시설유지보수 직원 채용     경력무관   \n",
       "4          (주)엠브레인                   차량용 블랙박스 S/W, H/W개발자 채용     경력무관   \n",
       "...            ...                                       ...      ...   \n",
       "2595    (주)비바리퍼블리카  [토스뱅크] Validation Manager (CSS 모형)를 모십니다     경력무관   \n",
       "2596        (주)골라라            [골라라] QA/QC 엔지니어(QA/QC Genius)  3 ~ 15년   \n",
       "2597       (주)지니웍스                             Java 개발 경력 채용  5 ~ 12년   \n",
       "2598    (주)아이스크림에듀                         UX리서치 고객데이터 분석 담당   경력 3년↑   \n",
       "2599    (주)아이스크림에듀                      마케팅실 퍼포먼스 광고/영업관리 모집   경력 2년↑   \n",
       "\n",
       "      education  employment workspace  \\\n",
       "0          학력무관         정규직    서울 성북구   \n",
       "1          학력무관         정규직    서울 성동구   \n",
       "2          학력무관         정규직   서울 영등포구   \n",
       "3          학력무관         정규직    전남 여수시   \n",
       "4     대학(2,3년)↑  정규직 · 병역특례    서울 금천구   \n",
       "...         ...         ...       ...   \n",
       "2595       학력무관         정규직    서울 강남구   \n",
       "2596       학력무관         정규직      서울전체   \n",
       "2597   대학교(4년)↑         정규직      서울전체   \n",
       "2598       학력무관         정규직    서울 강남구   \n",
       "2599       학력무관         정규직    서울 강남구   \n",
       "\n",
       "                                                content  \n",
       "0                                                        \n",
       "1     2021년 하반기 서버 및 보안 엔지니어 정규직 채용(신입,경력)\\n모집부문 및 상...  \n",
       "2                                                        \n",
       "3     [전남] 아르떼뮤지엄-여수 시설유지보수 직원 채용\\n아르떼뮤지엄은 2020년 제주에...  \n",
       "4     모집부문 및 자격요건\\n모집분야\\n담당업무\\n상세내용\\nS/W\\n(서울 근무)\\n ...  \n",
       "...                                                 ...  \n",
       "2595                                                     \n",
       "2596                                                     \n",
       "2597                                                     \n",
       "2598                                                     \n",
       "2599                                                     \n",
       "\n",
       "[2600 rows x 7 columns]"
      ]
     },
     "execution_count": 129,
     "metadata": {},
     "output_type": "execute_result"
    }
   ],
   "source": [
    "df2"
   ]
  },
  {
   "cell_type": "code",
   "execution_count": 143,
   "metadata": {},
   "outputs": [],
   "source": [
    "df3.to_csv('./saramin3.csv')"
   ]
  },
  {
   "cell_type": "code",
   "execution_count": 144,
   "metadata": {},
   "outputs": [
    {
     "data": {
      "text/html": [
       "<div>\n",
       "<style scoped>\n",
       "    .dataframe tbody tr th:only-of-type {\n",
       "        vertical-align: middle;\n",
       "    }\n",
       "\n",
       "    .dataframe tbody tr th {\n",
       "        vertical-align: top;\n",
       "    }\n",
       "\n",
       "    .dataframe thead th {\n",
       "        text-align: right;\n",
       "    }\n",
       "</style>\n",
       "<table border=\"1\" class=\"dataframe\">\n",
       "  <thead>\n",
       "    <tr style=\"text-align: right;\">\n",
       "      <th></th>\n",
       "      <th>nm</th>\n",
       "      <th>title</th>\n",
       "      <th>career</th>\n",
       "      <th>education</th>\n",
       "      <th>employment</th>\n",
       "      <th>workspace</th>\n",
       "      <th>content</th>\n",
       "    </tr>\n",
       "  </thead>\n",
       "  <tbody>\n",
       "    <tr>\n",
       "      <th>0</th>\n",
       "      <td>오토포커스(주)</td>\n",
       "      <td>PHP 웹 개발 경력직 인재채용</td>\n",
       "      <td>경력 3년↑</td>\n",
       "      <td>학력무관</td>\n",
       "      <td>정규직</td>\n",
       "      <td>경기 하남시</td>\n",
       "      <td>PHP 웹 개발 경력직 인재채용\\n2008년 01월 04일에 설립된 시스템 소프트웨...</td>\n",
       "    </tr>\n",
       "    <tr>\n",
       "      <th>1</th>\n",
       "      <td>하성e-sis</td>\n",
       "      <td>하성전자 웹디자인 신입/경력사원 모집합니다</td>\n",
       "      <td>경력무관</td>\n",
       "      <td>학력무관</td>\n",
       "      <td>정규직</td>\n",
       "      <td>서울 구로구</td>\n",
       "      <td>하성전자 웹디자인 신입/경력 채용\\n\\n모집부문 및 상세내용\\n공통 자격요건\\nㆍ학...</td>\n",
       "    </tr>\n",
       "    <tr>\n",
       "      <th>2</th>\n",
       "      <td>미래손</td>\n",
       "      <td>C++ , C , DB , web, java 신입 및 경력모집합니다</td>\n",
       "      <td>신입 · 경력</td>\n",
       "      <td>대학(2,3년)↑</td>\n",
       "      <td>정규직</td>\n",
       "      <td>서울 금천구</td>\n",
       "      <td>채용정보\\n기업·연봉정보\\n인재풀\\n인적성·면접\\n검색어를 입력하세요 로그인 회원가...</td>\n",
       "    </tr>\n",
       "    <tr>\n",
       "      <th>3</th>\n",
       "      <td>주식회사 자이온아이티에스</td>\n",
       "      <td>2022년 상반기 시스템엔지니어 경력무관 모집</td>\n",
       "      <td>경력무관</td>\n",
       "      <td>학력무관</td>\n",
       "      <td>정규직</td>\n",
       "      <td>서울 강남구</td>\n",
       "      <td></td>\n",
       "    </tr>\n",
       "    <tr>\n",
       "      <th>4</th>\n",
       "      <td>(주)이덕아이앤씨</td>\n",
       "      <td>[알레르망] 2021년 하반기 공채 모집</td>\n",
       "      <td>신입 · 경력</td>\n",
       "      <td>대학교(4년)↑</td>\n",
       "      <td>정규직</td>\n",
       "      <td>서울 마포구</td>\n",
       "      <td>모집부문\\n모집분야 직급 담당업무 자격요건 및 우대사항 연봉\\n가두점\\n영업 사원~...</td>\n",
       "    </tr>\n",
       "    <tr>\n",
       "      <th>...</th>\n",
       "      <td>...</td>\n",
       "      <td>...</td>\n",
       "      <td>...</td>\n",
       "      <td>...</td>\n",
       "      <td>...</td>\n",
       "      <td>...</td>\n",
       "      <td>...</td>\n",
       "    </tr>\n",
       "    <tr>\n",
       "      <th>1595</th>\n",
       "      <td>(주)신일에프아이</td>\n",
       "      <td>기술영업 및 Engineer 신입/경력사원 채용합니다.</td>\n",
       "      <td>신입 · 경력</td>\n",
       "      <td>고졸↑</td>\n",
       "      <td>정규직</td>\n",
       "      <td>경기 군포시</td>\n",
       "      <td>기술영업 및 Engineer 신입/경력사원 채용합니다.\\n모집부문 및 상세내용\\n공...</td>\n",
       "    </tr>\n",
       "    <tr>\n",
       "      <th>1596</th>\n",
       "      <td>(주)엠소닉</td>\n",
       "      <td>오디오 제품 개발자 신입/경력 모집</td>\n",
       "      <td>신입 · 경력</td>\n",
       "      <td>대학(2,3년)↑</td>\n",
       "      <td>정규직</td>\n",
       "      <td>인천 남동구</td>\n",
       "      <td>오디오 제품 개발자(회로) 신입/경력 모집\\n모집부문 및 상세내용\\n공통 자격요건\\...</td>\n",
       "    </tr>\n",
       "    <tr>\n",
       "      <th>1597</th>\n",
       "      <td>(주)매그넘빈트</td>\n",
       "      <td>UI 개발자 경력자 채용 (유관 업무 전향 희망자 환영)</td>\n",
       "      <td>경력 3년↑</td>\n",
       "      <td>대학(2,3년)↑</td>\n",
       "      <td>정규직</td>\n",
       "      <td>서울 강남구</td>\n",
       "      <td>UI 개발자 경력자 채용 (유관 업무 전향 희망자 환영)\\n모집부문 및 상세내용\\n...</td>\n",
       "    </tr>\n",
       "    <tr>\n",
       "      <th>1598</th>\n",
       "      <td>위쉬정보기술㈜</td>\n",
       "      <td>JAVA/ JSP 개발/운영 신입/경력사원 모집</td>\n",
       "      <td>경력무관</td>\n",
       "      <td>학력무관</td>\n",
       "      <td>정규직 · 계약직</td>\n",
       "      <td>서울 구로구</td>\n",
       "      <td>JAVA/ JSP 개발/운영 신입/경력사원 모집\\n폐사는 사회 제 분야에서 보다 신...</td>\n",
       "    </tr>\n",
       "    <tr>\n",
       "      <th>1599</th>\n",
       "      <td>위쉬정보기술㈜</td>\n",
       "      <td>android, ios 개발/운영 신입/경력사원 모집</td>\n",
       "      <td>경력 1년↑</td>\n",
       "      <td>학력무관</td>\n",
       "      <td>정규직 · 계약직</td>\n",
       "      <td>서울 구로구</td>\n",
       "      <td>android, IOS 개발/운영 신입/경력사원 모집\\n폐사는 사회 제 분야에서 보...</td>\n",
       "    </tr>\n",
       "  </tbody>\n",
       "</table>\n",
       "<p>1600 rows × 7 columns</p>\n",
       "</div>"
      ],
      "text/plain": [
       "                 nm                                  title   career  \\\n",
       "0          오토포커스(주)                      PHP 웹 개발 경력직 인재채용   경력 3년↑   \n",
       "1           하성e-sis                하성전자 웹디자인 신입/경력사원 모집합니다     경력무관   \n",
       "2               미래손  C++ , C , DB , web, java 신입 및 경력모집합니다  신입 · 경력   \n",
       "3     주식회사 자이온아이티에스              2022년 상반기 시스템엔지니어 경력무관 모집     경력무관   \n",
       "4         (주)이덕아이앤씨                 [알레르망] 2021년 하반기 공채 모집  신입 · 경력   \n",
       "...             ...                                    ...      ...   \n",
       "1595      (주)신일에프아이         기술영업 및 Engineer 신입/경력사원 채용합니다.  신입 · 경력   \n",
       "1596         (주)엠소닉                    오디오 제품 개발자 신입/경력 모집  신입 · 경력   \n",
       "1597       (주)매그넘빈트        UI 개발자 경력자 채용 (유관 업무 전향 희망자 환영)   경력 3년↑   \n",
       "1598        위쉬정보기술㈜             JAVA/ JSP 개발/운영 신입/경력사원 모집     경력무관   \n",
       "1599        위쉬정보기술㈜          android, ios 개발/운영 신입/경력사원 모집   경력 1년↑   \n",
       "\n",
       "      education employment workspace  \\\n",
       "0          학력무관        정규직    경기 하남시   \n",
       "1          학력무관        정규직    서울 구로구   \n",
       "2     대학(2,3년)↑        정규직    서울 금천구   \n",
       "3          학력무관        정규직    서울 강남구   \n",
       "4      대학교(4년)↑        정규직    서울 마포구   \n",
       "...         ...        ...       ...   \n",
       "1595        고졸↑        정규직    경기 군포시   \n",
       "1596  대학(2,3년)↑        정규직    인천 남동구   \n",
       "1597  대학(2,3년)↑        정규직    서울 강남구   \n",
       "1598       학력무관  정규직 · 계약직    서울 구로구   \n",
       "1599       학력무관  정규직 · 계약직    서울 구로구   \n",
       "\n",
       "                                                content  \n",
       "0     PHP 웹 개발 경력직 인재채용\\n2008년 01월 04일에 설립된 시스템 소프트웨...  \n",
       "1     하성전자 웹디자인 신입/경력 채용\\n\\n모집부문 및 상세내용\\n공통 자격요건\\nㆍ학...  \n",
       "2     채용정보\\n기업·연봉정보\\n인재풀\\n인적성·면접\\n검색어를 입력하세요 로그인 회원가...  \n",
       "3                                                        \n",
       "4     모집부문\\n모집분야 직급 담당업무 자격요건 및 우대사항 연봉\\n가두점\\n영업 사원~...  \n",
       "...                                                 ...  \n",
       "1595  기술영업 및 Engineer 신입/경력사원 채용합니다.\\n모집부문 및 상세내용\\n공...  \n",
       "1596  오디오 제품 개발자(회로) 신입/경력 모집\\n모집부문 및 상세내용\\n공통 자격요건\\...  \n",
       "1597  UI 개발자 경력자 채용 (유관 업무 전향 희망자 환영)\\n모집부문 및 상세내용\\n...  \n",
       "1598  JAVA/ JSP 개발/운영 신입/경력사원 모집\\n폐사는 사회 제 분야에서 보다 신...  \n",
       "1599  android, IOS 개발/운영 신입/경력사원 모집\\n폐사는 사회 제 분야에서 보...  \n",
       "\n",
       "[1600 rows x 7 columns]"
      ]
     },
     "execution_count": 144,
     "metadata": {},
     "output_type": "execute_result"
    }
   ],
   "source": [
    "df3"
   ]
  },
  {
   "cell_type": "code",
   "execution_count": 146,
   "metadata": {},
   "outputs": [
    {
     "data": {
      "text/plain": [
       "10000"
      ]
     },
     "execution_count": 146,
     "metadata": {},
     "output_type": "execute_result"
    }
   ],
   "source": [
    "1600 + 2600 +5800"
   ]
  },
  {
   "cell_type": "code",
   "execution_count": 145,
   "metadata": {},
   "outputs": [
    {
     "data": {
      "text/html": [
       "<div>\n",
       "<style scoped>\n",
       "    .dataframe tbody tr th:only-of-type {\n",
       "        vertical-align: middle;\n",
       "    }\n",
       "\n",
       "    .dataframe tbody tr th {\n",
       "        vertical-align: top;\n",
       "    }\n",
       "\n",
       "    .dataframe thead th {\n",
       "        text-align: right;\n",
       "    }\n",
       "</style>\n",
       "<table border=\"1\" class=\"dataframe\">\n",
       "  <thead>\n",
       "    <tr style=\"text-align: right;\">\n",
       "      <th></th>\n",
       "      <th>nm</th>\n",
       "      <th>title</th>\n",
       "      <th>career</th>\n",
       "      <th>education</th>\n",
       "      <th>employment</th>\n",
       "      <th>workspace</th>\n",
       "      <th>content</th>\n",
       "    </tr>\n",
       "  </thead>\n",
       "  <tbody>\n",
       "    <tr>\n",
       "      <th>0</th>\n",
       "      <td>(주)비에스케이코퍼레이션</td>\n",
       "      <td>[더바디샵/고디바] 본사 전산팀(자사몰) 개발운영 경력직 채용</td>\n",
       "      <td>경력 3년↑</td>\n",
       "      <td>학력무관</td>\n",
       "      <td>정규직</td>\n",
       "      <td>서울 강남구</td>\n",
       "      <td>[더바디샵/고디바/홀랜드앤바렛]\\n본사 전산팀 경력직 채용\\n모집부문 및 상세내용\\...</td>\n",
       "    </tr>\n",
       "    <tr>\n",
       "      <th>1</th>\n",
       "      <td>(주)버추얼랩</td>\n",
       "      <td>자바 백엔드 개발자를 모십니다 (R&amp;D솔루션 개발)</td>\n",
       "      <td>경력 1년↑</td>\n",
       "      <td>학력무관</td>\n",
       "      <td>정규직</td>\n",
       "      <td>서울 성동구</td>\n",
       "      <td>자바 백엔드 개발자를 모십니다 (R&amp;D솔루션 개발)\\n모집부문 및 상세내용\\n자바 ...</td>\n",
       "    </tr>\n",
       "    <tr>\n",
       "      <th>2</th>\n",
       "      <td>(주)에이치엠인터내셔날</td>\n",
       "      <td>백엔드 개발자</td>\n",
       "      <td>3 ~ 15년</td>\n",
       "      <td>학력무관</td>\n",
       "      <td>정규직</td>\n",
       "      <td>서울전체</td>\n",
       "      <td></td>\n",
       "    </tr>\n",
       "    <tr>\n",
       "      <th>3</th>\n",
       "      <td>(주)에이치엠인터내셔날</td>\n",
       "      <td>프론트엔드 개발자</td>\n",
       "      <td>2 ~ 17년</td>\n",
       "      <td>학력무관</td>\n",
       "      <td>정규직</td>\n",
       "      <td>서울전체</td>\n",
       "      <td>프론트엔드 개발자\\n서비스 소개\\n자사는 ktown4u 서비스를 운영하고 있는 Gl...</td>\n",
       "    </tr>\n",
       "    <tr>\n",
       "      <th>4</th>\n",
       "      <td>(주)주연전자서비스</td>\n",
       "      <td>PC, 네트워크 유지보수, CCTV 설치 모집</td>\n",
       "      <td>경력무관</td>\n",
       "      <td>학력무관</td>\n",
       "      <td>정규직 · 계약직</td>\n",
       "      <td>서울 서초구</td>\n",
       "      <td>채용정보\\n기업·연봉정보\\n인재풀\\n인적성·면접\\n검색어를 입력하세요 로그인 회원가...</td>\n",
       "    </tr>\n",
       "    <tr>\n",
       "      <th>...</th>\n",
       "      <td>...</td>\n",
       "      <td>...</td>\n",
       "      <td>...</td>\n",
       "      <td>...</td>\n",
       "      <td>...</td>\n",
       "      <td>...</td>\n",
       "      <td>...</td>\n",
       "    </tr>\n",
       "    <tr>\n",
       "      <th>5795</th>\n",
       "      <td>(주)아이작리서치</td>\n",
       "      <td>C# 개발 인재 채용</td>\n",
       "      <td>신입 · 경력</td>\n",
       "      <td>대학(2,3년)↑</td>\n",
       "      <td>정규직</td>\n",
       "      <td>대전 유성구</td>\n",
       "      <td></td>\n",
       "    </tr>\n",
       "    <tr>\n",
       "      <th>5796</th>\n",
       "      <td>(주)다산지앤지</td>\n",
       "      <td>전자식스위치 개발 및 검증 (펌웨어)</td>\n",
       "      <td>경력무관</td>\n",
       "      <td>대학(2,3년)↑</td>\n",
       "      <td>정규직</td>\n",
       "      <td>서울 구로구</td>\n",
       "      <td></td>\n",
       "    </tr>\n",
       "    <tr>\n",
       "      <th>5797</th>\n",
       "      <td>원시스템</td>\n",
       "      <td>웹프로그래밍 경력자분 모집합니다</td>\n",
       "      <td>3 ~ 4년</td>\n",
       "      <td>고졸↑</td>\n",
       "      <td>정규직</td>\n",
       "      <td>대구 달서구</td>\n",
       "      <td></td>\n",
       "    </tr>\n",
       "    <tr>\n",
       "      <th>5798</th>\n",
       "      <td>(주)참약사</td>\n",
       "      <td>(주)참약사 신입/경력 추가 채용</td>\n",
       "      <td>경력무관</td>\n",
       "      <td>학력무관</td>\n",
       "      <td>정규직</td>\n",
       "      <td>서울 성북구</td>\n",
       "      <td></td>\n",
       "    </tr>\n",
       "    <tr>\n",
       "      <th>5799</th>\n",
       "      <td>(주)에스엔에이</td>\n",
       "      <td>2021년 하반기 서버 및 보안 엔지니어 정규직 채용(신입,경력)</td>\n",
       "      <td>신입 · 경력</td>\n",
       "      <td>학력무관</td>\n",
       "      <td>정규직</td>\n",
       "      <td>서울 성동구</td>\n",
       "      <td></td>\n",
       "    </tr>\n",
       "  </tbody>\n",
       "</table>\n",
       "<p>5800 rows × 7 columns</p>\n",
       "</div>"
      ],
      "text/plain": [
       "                 nm                                 title   career  education  \\\n",
       "0     (주)비에스케이코퍼레이션    [더바디샵/고디바] 본사 전산팀(자사몰) 개발운영 경력직 채용   경력 3년↑       학력무관   \n",
       "1           (주)버추얼랩          자바 백엔드 개발자를 모십니다 (R&D솔루션 개발)   경력 1년↑       학력무관   \n",
       "2      (주)에이치엠인터내셔날                               백엔드 개발자  3 ~ 15년       학력무관   \n",
       "3      (주)에이치엠인터내셔날                             프론트엔드 개발자  2 ~ 17년       학력무관   \n",
       "4        (주)주연전자서비스             PC, 네트워크 유지보수, CCTV 설치 모집     경력무관       학력무관   \n",
       "...             ...                                   ...      ...        ...   \n",
       "5795      (주)아이작리서치                           C# 개발 인재 채용  신입 · 경력  대학(2,3년)↑   \n",
       "5796       (주)다산지앤지                  전자식스위치 개발 및 검증 (펌웨어)     경력무관  대학(2,3년)↑   \n",
       "5797           원시스템                     웹프로그래밍 경력자분 모집합니다   3 ~ 4년        고졸↑   \n",
       "5798         (주)참약사                    (주)참약사 신입/경력 추가 채용     경력무관       학력무관   \n",
       "5799       (주)에스엔에이  2021년 하반기 서버 및 보안 엔지니어 정규직 채용(신입,경력)  신입 · 경력       학력무관   \n",
       "\n",
       "     employment workspace                                            content  \n",
       "0           정규직    서울 강남구  [더바디샵/고디바/홀랜드앤바렛]\\n본사 전산팀 경력직 채용\\n모집부문 및 상세내용\\...  \n",
       "1           정규직    서울 성동구  자바 백엔드 개발자를 모십니다 (R&D솔루션 개발)\\n모집부문 및 상세내용\\n자바 ...  \n",
       "2           정규직      서울전체                                                     \n",
       "3           정규직      서울전체  프론트엔드 개발자\\n서비스 소개\\n자사는 ktown4u 서비스를 운영하고 있는 Gl...  \n",
       "4     정규직 · 계약직    서울 서초구  채용정보\\n기업·연봉정보\\n인재풀\\n인적성·면접\\n검색어를 입력하세요 로그인 회원가...  \n",
       "...         ...       ...                                                ...  \n",
       "5795        정규직    대전 유성구                                                     \n",
       "5796        정규직    서울 구로구                                                     \n",
       "5797        정규직    대구 달서구                                                     \n",
       "5798        정규직    서울 성북구                                                     \n",
       "5799        정규직    서울 성동구                                                     \n",
       "\n",
       "[5800 rows x 7 columns]"
      ]
     },
     "execution_count": 145,
     "metadata": {},
     "output_type": "execute_result"
    }
   ],
   "source": [
    "df"
   ]
  },
  {
   "cell_type": "code",
   "execution_count": null,
   "metadata": {},
   "outputs": [],
   "source": []
  }
 ],
 "metadata": {
  "interpreter": {
   "hash": "8ca95d9937370959fe53b3f81cea8b7fb579a8b2e40b3ed544c9c6bb9cfba242"
  },
  "kernelspec": {
   "display_name": "Python 3.7.3 64-bit ('base': conda)",
   "language": "python",
   "name": "python3"
  },
  "language_info": {
   "codemirror_mode": {
    "name": "ipython",
    "version": 3
   },
   "file_extension": ".py",
   "mimetype": "text/x-python",
   "name": "python",
   "nbconvert_exporter": "python",
   "pygments_lexer": "ipython3",
   "version": "3.7.3"
  },
  "orig_nbformat": 4
 },
 "nbformat": 4,
 "nbformat_minor": 2
}
