{
 "cells": [
  {
   "cell_type": "code",
   "execution_count": 1,
   "metadata": {},
   "outputs": [],
   "source": [
    "from selenium import webdriver\n",
    "import time\n",
    "\n",
    "import pandas as pd"
   ]
  },
  {
   "cell_type": "markdown",
   "metadata": {},
   "source": [
    "## 대기업"
   ]
  },
  {
   "cell_type": "code",
   "execution_count": null,
   "metadata": {},
   "outputs": [],
   "source": [
    "#duty_step2_10016_ly > li:nth-child(1) > label > span > span\n",
    "#duty_step2_10016_ly > li:nth-child(2)\n",
    "#duty_step2_10016_ly > li:nth-child(17)"
   ]
  },
  {
   "cell_type": "code",
   "execution_count": 76,
   "metadata": {},
   "outputs": [],
   "source": [
    "df_nm, df_title, df_career, df_education, df_employment, df_workspace, df_content = [],[],[],[],[],[],[]"
   ]
  },
  {
   "cell_type": "code",
   "execution_count": 77,
   "metadata": {},
   "outputs": [
    {
     "name": "stdout",
     "output_type": "stream",
     "text": [
      "1\n"
     ]
    },
    {
     "name": "stderr",
     "output_type": "stream",
     "text": [
      "C:\\Users\\sonso\\Anaconda3\\lib\\site-packages\\ipykernel_launcher.py:70: DeprecationWarning: use driver.switch_to.window instead\n",
      "C:\\Users\\sonso\\Anaconda3\\lib\\site-packages\\ipykernel_launcher.py:73: DeprecationWarning: use driver.switch_to.frame instead\n",
      "C:\\Users\\sonso\\Anaconda3\\lib\\site-packages\\ipykernel_launcher.py:80: DeprecationWarning: use driver.switch_to.window instead\n"
     ]
    },
    {
     "name": "stdout",
     "output_type": "stream",
     "text": [
      "2\n",
      "3\n",
      "4\n",
      "5\n"
     ]
    }
   ],
   "source": [
    "# 직무 페이지 열기 \n",
    "for page in range(1, 251) : \n",
    "    print(page)\n",
    "    driver = webdriver.Chrome('C:/Users/sonso/Desktop/Git/Python/chromedriver.exe')\n",
    "    try : \n",
    "        driver.get(f'https://www.jobkorea.co.kr/recruit/joblist?menucode=local&localorder=1#anchorGICnt_{page}')\n",
    "        time.sleep(1)\n",
    "        \n",
    "        # 직무 탭 선택 \n",
    "        driver.find_element_by_xpath('//*[@id=\"devSearchForm\"]/div[2]/div/div[1]/dl[1]/dt/p').click()\n",
    "        \n",
    "        # IT 직무 선택 \n",
    "        driver.find_element_by_xpath('//*[@id=\"devSearchForm\"]/div[2]/div/div[1]/dl[1]/dd[2]/div[2]/dl[1]/dd/div[1]/ul/li[3]/label/span').click()\n",
    "        \n",
    "        # 세부 직무 전체 선택 \n",
    "        for i in range(1,18) : \n",
    "            driver.find_element_by_css_selector(f'#duty_step2_10016_ly > li:nth-child({i}) > label > span > span').click()\n",
    "\n",
    "        # 선택 조건으로 검색 \n",
    "        driver.find_element_by_xpath('//*[@id=\"dev-btn-search\"]').click() \n",
    "        time.sleep(2)\n",
    "        \n",
    "        # 대기업 선택 \n",
    "        driver.find_element_by_xpath('//*[@id=\"anchorGICnt_1\"]/li[2]/button').click()\n",
    "        \n",
    "        # 전체 리스트 가져오기 \n",
    "        li = driver.find_element_by_xpath('//*[@id=\"dev-gi-list\"]/div/div[5]/table/tbody')\n",
    "        \n",
    "        # 회사 이름 \n",
    "        li_nm = li.find_elements_by_css_selector('td.tplCo>a')\n",
    "        li_title = li.find_elements_by_css_selector('td.tplTit > div > strong > a')\n",
    "        li_etc = li.find_elements_by_css_selector('td.tplTit > div > p.etc')\n",
    "        \n",
    "        for j in range(40) : \n",
    "            try : \n",
    "                df_nm.append(li_nm[j].text)\n",
    "            except : \n",
    "                df_nm.append('')\n",
    "                \n",
    "            try : \n",
    "                df_title.append(li_title[j].text)\n",
    "            except : \n",
    "                df_title.append('')\n",
    "                \n",
    "            \n",
    "            try :\n",
    "                df_career.append(li_etc[0].find_elements_by_css_selector('span')[0].text)\n",
    "            except : \n",
    "                df_career.append('')\n",
    "                \n",
    "            try : \n",
    "                df_education.append(li_etc[0].find_elements_by_css_selector('span')[1].text)\n",
    "            except : \n",
    "                df_education.append('')\n",
    "                \n",
    "            try : \n",
    "                df_workspace.append(li_etc[0].find_elements_by_css_selector('span')[2].text)\n",
    "            except : \n",
    "                df_workspace.append('')\n",
    "                \n",
    "            try : \n",
    "                df_employment.append(li_etc[0].find_elements_by_css_selector('span')[3].text)\n",
    "            except : \n",
    "                df_employment.append('')\n",
    "            \n",
    "            time.sleep(2)\n",
    "            \n",
    "            # 상세페이지 들어가기 \n",
    "            li_title[j].click()\n",
    "            time.sleep(3)\n",
    "            driver.switch_to_window(driver.window_handles[1])\n",
    "            \n",
    "            try : \n",
    "                driver.switch_to_frame('gib_frame')\n",
    "                df_content.append(driver.find_element_by_css_selector('body').text)\n",
    "                driver.switch_to.default_content()\n",
    "                \n",
    "            except : \n",
    "                df_content.append('')\n",
    "            driver.close()\n",
    "            driver.switch_to_window(driver.window_handles[0])\n",
    "        driver.close()\n",
    "    except : # 끝 페이지 도달 시 중지\n",
    "        break\n",
    "\n",
    "df_big = pd.DataFrame({'nm' : df_nm, \n",
    "                   'title' : df_title,\n",
    "                   'career' : df_career,\n",
    "                   'education' : df_education,\n",
    "                   'employment' : df_employment,\n",
    "                   'workspace' : df_workspace,\n",
    "                   'content' : df_content})     \n",
    "        "
   ]
  },
  {
   "cell_type": "code",
   "execution_count": 78,
   "metadata": {},
   "outputs": [],
   "source": [
    "df_big = pd.DataFrame({'nm' : df_nm, \n",
    "                   'title' : df_title,\n",
    "                   'career' : df_career,\n",
    "                   'education' : df_education,\n",
    "                   'employment' : df_employment,\n",
    "                   'workspace' : df_workspace,\n",
    "                   'content' : df_content}) "
   ]
  },
  {
   "cell_type": "code",
   "execution_count": 79,
   "metadata": {},
   "outputs": [
    {
     "data": {
      "text/plain": [
       "(160, 7)"
      ]
     },
     "execution_count": 79,
     "metadata": {},
     "output_type": "execute_result"
    }
   ],
   "source": [
    "df_big.shape"
   ]
  },
  {
   "cell_type": "code",
   "execution_count": 84,
   "metadata": {},
   "outputs": [
    {
     "data": {
      "text/plain": [
       "15"
      ]
     },
     "execution_count": 84,
     "metadata": {},
     "output_type": "execute_result"
    }
   ],
   "source": [
    "df_big.content[0].split('\\n').index('[지원자격]')"
   ]
  },
  {
   "cell_type": "code",
   "execution_count": 93,
   "metadata": {},
   "outputs": [
    {
     "data": {
      "text/plain": [
       "'유지보수, 서비스, 공급, 용역 계약관리'"
      ]
     },
     "execution_count": 93,
     "metadata": {},
     "output_type": "execute_result"
    }
   ],
   "source": [
    "df_big.content[0].split('\\n')[30]"
   ]
  },
  {
   "cell_type": "code",
   "execution_count": null,
   "metadata": {},
   "outputs": [],
   "source": []
  }
 ],
 "metadata": {
  "interpreter": {
   "hash": "8ca95d9937370959fe53b3f81cea8b7fb579a8b2e40b3ed544c9c6bb9cfba242"
  },
  "kernelspec": {
   "display_name": "Python 3.7.3 64-bit ('base': conda)",
   "language": "python",
   "name": "python3"
  },
  "language_info": {
   "codemirror_mode": {
    "name": "ipython",
    "version": 3
   },
   "file_extension": ".py",
   "mimetype": "text/x-python",
   "name": "python",
   "nbconvert_exporter": "python",
   "pygments_lexer": "ipython3",
   "version": "3.7.3"
  },
  "orig_nbformat": 4
 },
 "nbformat": 4,
 "nbformat_minor": 2
}
