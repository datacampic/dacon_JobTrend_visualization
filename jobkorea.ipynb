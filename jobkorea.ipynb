{
 "cells": [
  {
   "cell_type": "code",
   "execution_count": 1,
   "metadata": {},
   "outputs": [],
   "source": [
    "from selenium import webdriver\n",
    "import time\n",
    "\n",
    "import pandas as pd"
   ]
  },
  {
   "cell_type": "markdown",
   "metadata": {},
   "source": [
    "## 대기업"
   ]
  },
  {
   "cell_type": "code",
   "execution_count": null,
   "metadata": {},
   "outputs": [],
   "source": [
    "#duty_step2_10016_ly > li:nth-child(1) > label > span > span\n",
    "#duty_step2_10016_ly > li:nth-child(2)\n",
    "#duty_step2_10016_ly > li:nth-child(17)"
   ]
  },
  {
   "cell_type": "code",
   "execution_count": 76,
   "metadata": {},
   "outputs": [],
   "source": [
    "df_nm, df_title, df_career, df_education, df_employment, df_workspace, df_content = [],[],[],[],[],[],[]"
   ]
  },
  {
   "cell_type": "code",
   "execution_count": 77,
   "metadata": {},
   "outputs": [
    {
     "name": "stdout",
     "output_type": "stream",
     "text": [
      "1\n"
     ]
    },
    {
     "name": "stderr",
     "output_type": "stream",
     "text": [
      "C:\\Users\\sonso\\Anaconda3\\lib\\site-packages\\ipykernel_launcher.py:70: DeprecationWarning: use driver.switch_to.window instead\n",
      "C:\\Users\\sonso\\Anaconda3\\lib\\site-packages\\ipykernel_launcher.py:73: DeprecationWarning: use driver.switch_to.frame instead\n",
      "C:\\Users\\sonso\\Anaconda3\\lib\\site-packages\\ipykernel_launcher.py:80: DeprecationWarning: use driver.switch_to.window instead\n"
     ]
    },
    {
     "name": "stdout",
     "output_type": "stream",
     "text": [
      "2\n",
      "3\n",
      "4\n",
      "5\n"
     ]
    }
   ],
   "source": [
    "# 직무 페이지 열기 \n",
    "for page in range(1, 251) : \n",
    "    print(page)\n",
    "    driver = webdriver.Chrome('C:/Users/sonso/Desktop/Git/Python/chromedriver.exe')\n",
    "    try : \n",
    "        driver.get(f'https://www.jobkorea.co.kr/recruit/joblist?menucode=local&localorder=1#anchorGICnt_{page}')\n",
    "        time.sleep(1)\n",
    "        \n",
    "        # 직무 탭 선택 \n",
    "        driver.find_element_by_xpath('//*[@id=\"devSearchForm\"]/div[2]/div/div[1]/dl[1]/dt/p').click()\n",
    "        \n",
    "        # IT 직무 선택 \n",
    "        driver.find_element_by_xpath('//*[@id=\"devSearchForm\"]/div[2]/div/div[1]/dl[1]/dd[2]/div[2]/dl[1]/dd/div[1]/ul/li[3]/label/span').click()\n",
    "        \n",
    "        # 세부 직무 전체 선택 \n",
    "        for i in range(1,18) : \n",
    "            driver.find_element_by_css_selector(f'#duty_step2_10016_ly > li:nth-child({i}) > label > span > span').click()\n",
    "\n",
    "        # 선택 조건으로 검색 \n",
    "        driver.find_element_by_xpath('//*[@id=\"dev-btn-search\"]').click() \n",
    "        time.sleep(2)\n",
    "        \n",
    "        # 대기업 선택 \n",
    "        driver.find_element_by_xpath('//*[@id=\"anchorGICnt_1\"]/li[2]/button').click()\n",
    "        \n",
    "        # 전체 리스트 가져오기 \n",
    "        li = driver.find_element_by_xpath('//*[@id=\"dev-gi-list\"]/div/div[5]/table/tbody')\n",
    "        \n",
    "        # 회사 이름 \n",
    "        li_nm = li.find_elements_by_css_selector('td.tplCo>a')\n",
    "        li_title = li.find_elements_by_css_selector('td.tplTit > div > strong > a')\n",
    "        li_etc = li.find_elements_by_css_selector('td.tplTit > div > p.etc')\n",
    "        \n",
    "        for j in range(40) : \n",
    "            try : \n",
    "                df_nm.append(li_nm[j].text)\n",
    "            except : \n",
    "                df_nm.append('')\n",
    "                \n",
    "            try : \n",
    "                df_title.append(li_title[j].text)\n",
    "            except : \n",
    "                df_title.append('')\n",
    "                \n",
    "            \n",
    "            try :\n",
    "                df_career.append(li_etc[0].find_elements_by_css_selector('span')[0].text)\n",
    "            except : \n",
    "                df_career.append('')\n",
    "                \n",
    "            try : \n",
    "                df_education.append(li_etc[0].find_elements_by_css_selector('span')[1].text)\n",
    "            except : \n",
    "                df_education.append('')\n",
    "                \n",
    "            try : \n",
    "                df_workspace.append(li_etc[0].find_elements_by_css_selector('span')[2].text)\n",
    "            except : \n",
    "                df_workspace.append('')\n",
    "                \n",
    "            try : \n",
    "                df_employment.append(li_etc[0].find_elements_by_css_selector('span')[3].text)\n",
    "            except : \n",
    "                df_employment.append('')\n",
    "            \n",
    "            time.sleep(2)\n",
    "            \n",
    "            # 상세페이지 들어가기 \n",
    "            li_title[j].click()\n",
    "            time.sleep(3)\n",
    "            driver.switch_to_window(driver.window_handles[1])\n",
    "            \n",
    "            try : \n",
    "                driver.switch_to_frame('gib_frame')\n",
    "                df_content.append(driver.find_element_by_css_selector('body').text)\n",
    "                driver.switch_to.default_content()\n",
    "                \n",
    "            except : \n",
    "                df_content.append('')\n",
    "            driver.close()\n",
    "            driver.switch_to_window(driver.window_handles[0])\n",
    "        driver.close()\n",
    "    except : # 끝 페이지 도달 시 중지\n",
    "        break\n",
    "\n",
    "df_big = pd.DataFrame({'nm' : df_nm, \n",
    "                   'title' : df_title,\n",
    "                   'career' : df_career,\n",
    "                   'education' : df_education,\n",
    "                   'employment' : df_employment,\n",
    "                   'workspace' : df_workspace,\n",
    "                   'content' : df_content})     \n",
    "        "
   ]
  },
  {
   "cell_type": "code",
   "execution_count": 145,
   "metadata": {},
   "outputs": [],
   "source": [
    "df_big = pd.DataFrame({'nm' : df_nm, \n",
    "                   'title' : df_title,\n",
    "                   'career' : df_career,\n",
    "                   'education' : df_education,\n",
    "                   'employment' : df_employment,\n",
    "                   'workspace' : df_workspace,\n",
    "                   'content' : df_content}) "
   ]
  },
  {
   "cell_type": "code",
   "execution_count": 148,
   "metadata": {},
   "outputs": [
    {
     "name": "stdout",
     "output_type": "stream",
     "text": [
      "(160, 7)\n",
      "(65, 7)\n"
     ]
    }
   ],
   "source": [
    "# 중복데이터 제거 \n",
    "print(df_big.shape)\n",
    "df_big.drop_duplicates(keep='first', inplace= True)\n",
    "print(df_big.shape)"
   ]
  },
  {
   "cell_type": "code",
   "execution_count": 153,
   "metadata": {},
   "outputs": [
    {
     "name": "stdout",
     "output_type": "stream",
     "text": [
      "M&A(매수측) 프로젝트 경험자\n",
      "연차보다는 실제 프로젝트 수행 경험 및 역량이 더 중요\n",
      "(신입) 포트폴리오 제출 /\n",
      "직무 분야와 관련하여 전문성을 키우기 위해 꾸준히 노력한 경험을 업무나 수행프로젝트 등을 중심으로 서술해주십시오. (2000자 이내)\n",
      "- 프로젝트 Technical Architect, PL, PM등 업무 유경험자 우대\n",
      "ㆍ프로젝트 리더 수행 경험자\n",
      "*** 포트폴리오 제출 필수\n",
      "POS 프로젝트 참여 경험자\n",
      "포트폴리오 분석 및 관리\n",
      "프로젝트 PL 또는 PM, TA 등 수행 경험자\n",
      "해외 프로젝트 경험 보유자\n"
     ]
    }
   ],
   "source": [
    "# 포트폴리오 유무 \n",
    "df_portfolio = []\n",
    "for i in range(df_big.shape[0]) : \n",
    "# for i in range(10) : \n",
    "    try : \n",
    "        example = df_big.content[i].split('\\n')\n",
    "        portfolio = 0 \n",
    "        for j in example : \n",
    "            if ('포트폴리오' in j) or ('깃허브' in j )or ('github' in j) or (('프로젝트' in j) and ('경험' in j)): \n",
    "                print(j)\n",
    "                portfolio = 1 \n",
    "                break \n",
    "        df_portfolio.append(portfolio)\n",
    "    except : \n",
    "        df_portfolio.append('')\n",
    "            \n",
    "        "
   ]
  },
  {
   "cell_type": "code",
   "execution_count": 154,
   "metadata": {},
   "outputs": [
    {
     "data": {
      "text/plain": [
       "array([0, 1, ''], dtype=object)"
      ]
     },
     "execution_count": 154,
     "metadata": {},
     "output_type": "execute_result"
    }
   ],
   "source": [
    "df_big['portfolio'] = df_portfolio\n",
    "df_big.portfolio.unique()"
   ]
  },
  {
   "cell_type": "code",
   "execution_count": 155,
   "metadata": {},
   "outputs": [
    {
     "data": {
      "image/png": "[encoded data removed]",
      "text/plain": [
       "<Figure size 432x288 with 1 Axes>"
      ]
     },
     "metadata": {
      "needs_background": "light"
     },
     "output_type": "display_data"
    }
   ],
   "source": [
    "import matplotlib.pyplot as plt \n",
    "import seaborn as sns\n",
    "import warnings \n",
    "\n",
    "warnings.filterwarnings('ignore')\n",
    "sns.countplot(df_big['portfolio'])\n",
    "plt.show()"
   ]
  },
  {
   "cell_type": "code",
   "execution_count": null,
   "metadata": {},
   "outputs": [],
   "source": []
  }
 ],
 "metadata": {
  "interpreter": {
   "hash": "8ca95d9937370959fe53b3f81cea8b7fb579a8b2e40b3ed544c9c6bb9cfba242"
  },
  "kernelspec": {
   "display_name": "Python 3.7.3 64-bit ('base': conda)",
   "language": "python",
   "name": "python3"
  },
  "language_info": {
   "codemirror_mode": {
    "name": "ipython",
    "version": 3
   },
   "file_extension": ".py",
   "mimetype": "text/x-python",
   "name": "python",
   "nbconvert_exporter": "python",
   "pygments_lexer": "ipython3",
   "version": "3.7.3"
  },
  "orig_nbformat": 4
 },
 "nbformat": 4,
 "nbformat_minor": 2
}
